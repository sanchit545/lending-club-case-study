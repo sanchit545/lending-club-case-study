{
 "cells": [
  {
   "cell_type": "code",
   "execution_count": 274,
   "metadata": {},
   "outputs": [],
   "source": [
    "import pandas as pd \n",
    "import numpy as np \n",
    "import matplotlib.pyplot as plt\n",
    "import seaborn as sns\n",
    "import datetime"
   ]
  },
  {
   "cell_type": "code",
   "execution_count": 275,
   "metadata": {},
   "outputs": [
    {
     "name": "stdout",
     "output_type": "stream",
     "text": [
      "(39717, 111)\n"
     ]
    },
    {
     "name": "stderr",
     "output_type": "stream",
     "text": [
      "F:\\ anaconda python\\lib\\site-packages\\IPython\\core\\interactiveshell.py:3063: DtypeWarning: Columns (47) have mixed types.Specify dtype option on import or set low_memory=False.\n",
      "  interactivity=interactivity, compiler=compiler, result=result)\n"
     ]
    },
    {
     "data": {
      "text/html": [
       "<div>\n",
       "<style scoped>\n",
       "    .dataframe tbody tr th:only-of-type {\n",
       "        vertical-align: middle;\n",
       "    }\n",
       "\n",
       "    .dataframe tbody tr th {\n",
       "        vertical-align: top;\n",
       "    }\n",
       "\n",
       "    .dataframe thead th {\n",
       "        text-align: right;\n",
       "    }\n",
       "</style>\n",
       "<table border=\"1\" class=\"dataframe\">\n",
       "  <thead>\n",
       "    <tr style=\"text-align: right;\">\n",
       "      <th></th>\n",
       "      <th>id</th>\n",
       "      <th>member_id</th>\n",
       "      <th>loan_amnt</th>\n",
       "      <th>funded_amnt</th>\n",
       "      <th>funded_amnt_inv</th>\n",
       "      <th>term</th>\n",
       "      <th>int_rate</th>\n",
       "      <th>installment</th>\n",
       "      <th>grade</th>\n",
       "      <th>sub_grade</th>\n",
       "      <th>...</th>\n",
       "      <th>num_tl_90g_dpd_24m</th>\n",
       "      <th>num_tl_op_past_12m</th>\n",
       "      <th>pct_tl_nvr_dlq</th>\n",
       "      <th>percent_bc_gt_75</th>\n",
       "      <th>pub_rec_bankruptcies</th>\n",
       "      <th>tax_liens</th>\n",
       "      <th>tot_hi_cred_lim</th>\n",
       "      <th>total_bal_ex_mort</th>\n",
       "      <th>total_bc_limit</th>\n",
       "      <th>total_il_high_credit_limit</th>\n",
       "    </tr>\n",
       "  </thead>\n",
       "  <tbody>\n",
       "    <tr>\n",
       "      <th>0</th>\n",
       "      <td>1077501</td>\n",
       "      <td>1296599</td>\n",
       "      <td>5000</td>\n",
       "      <td>5000</td>\n",
       "      <td>4975.0</td>\n",
       "      <td>36 months</td>\n",
       "      <td>10.65%</td>\n",
       "      <td>162.87</td>\n",
       "      <td>B</td>\n",
       "      <td>B2</td>\n",
       "      <td>...</td>\n",
       "      <td>NaN</td>\n",
       "      <td>NaN</td>\n",
       "      <td>NaN</td>\n",
       "      <td>NaN</td>\n",
       "      <td>0.0</td>\n",
       "      <td>0.0</td>\n",
       "      <td>NaN</td>\n",
       "      <td>NaN</td>\n",
       "      <td>NaN</td>\n",
       "      <td>NaN</td>\n",
       "    </tr>\n",
       "    <tr>\n",
       "      <th>1</th>\n",
       "      <td>1077430</td>\n",
       "      <td>1314167</td>\n",
       "      <td>2500</td>\n",
       "      <td>2500</td>\n",
       "      <td>2500.0</td>\n",
       "      <td>60 months</td>\n",
       "      <td>15.27%</td>\n",
       "      <td>59.83</td>\n",
       "      <td>C</td>\n",
       "      <td>C4</td>\n",
       "      <td>...</td>\n",
       "      <td>NaN</td>\n",
       "      <td>NaN</td>\n",
       "      <td>NaN</td>\n",
       "      <td>NaN</td>\n",
       "      <td>0.0</td>\n",
       "      <td>0.0</td>\n",
       "      <td>NaN</td>\n",
       "      <td>NaN</td>\n",
       "      <td>NaN</td>\n",
       "      <td>NaN</td>\n",
       "    </tr>\n",
       "    <tr>\n",
       "      <th>2</th>\n",
       "      <td>1077175</td>\n",
       "      <td>1313524</td>\n",
       "      <td>2400</td>\n",
       "      <td>2400</td>\n",
       "      <td>2400.0</td>\n",
       "      <td>36 months</td>\n",
       "      <td>15.96%</td>\n",
       "      <td>84.33</td>\n",
       "      <td>C</td>\n",
       "      <td>C5</td>\n",
       "      <td>...</td>\n",
       "      <td>NaN</td>\n",
       "      <td>NaN</td>\n",
       "      <td>NaN</td>\n",
       "      <td>NaN</td>\n",
       "      <td>0.0</td>\n",
       "      <td>0.0</td>\n",
       "      <td>NaN</td>\n",
       "      <td>NaN</td>\n",
       "      <td>NaN</td>\n",
       "      <td>NaN</td>\n",
       "    </tr>\n",
       "    <tr>\n",
       "      <th>3</th>\n",
       "      <td>1076863</td>\n",
       "      <td>1277178</td>\n",
       "      <td>10000</td>\n",
       "      <td>10000</td>\n",
       "      <td>10000.0</td>\n",
       "      <td>36 months</td>\n",
       "      <td>13.49%</td>\n",
       "      <td>339.31</td>\n",
       "      <td>C</td>\n",
       "      <td>C1</td>\n",
       "      <td>...</td>\n",
       "      <td>NaN</td>\n",
       "      <td>NaN</td>\n",
       "      <td>NaN</td>\n",
       "      <td>NaN</td>\n",
       "      <td>0.0</td>\n",
       "      <td>0.0</td>\n",
       "      <td>NaN</td>\n",
       "      <td>NaN</td>\n",
       "      <td>NaN</td>\n",
       "      <td>NaN</td>\n",
       "    </tr>\n",
       "    <tr>\n",
       "      <th>4</th>\n",
       "      <td>1075358</td>\n",
       "      <td>1311748</td>\n",
       "      <td>3000</td>\n",
       "      <td>3000</td>\n",
       "      <td>3000.0</td>\n",
       "      <td>60 months</td>\n",
       "      <td>12.69%</td>\n",
       "      <td>67.79</td>\n",
       "      <td>B</td>\n",
       "      <td>B5</td>\n",
       "      <td>...</td>\n",
       "      <td>NaN</td>\n",
       "      <td>NaN</td>\n",
       "      <td>NaN</td>\n",
       "      <td>NaN</td>\n",
       "      <td>0.0</td>\n",
       "      <td>0.0</td>\n",
       "      <td>NaN</td>\n",
       "      <td>NaN</td>\n",
       "      <td>NaN</td>\n",
       "      <td>NaN</td>\n",
       "    </tr>\n",
       "    <tr>\n",
       "      <th>...</th>\n",
       "      <td>...</td>\n",
       "      <td>...</td>\n",
       "      <td>...</td>\n",
       "      <td>...</td>\n",
       "      <td>...</td>\n",
       "      <td>...</td>\n",
       "      <td>...</td>\n",
       "      <td>...</td>\n",
       "      <td>...</td>\n",
       "      <td>...</td>\n",
       "      <td>...</td>\n",
       "      <td>...</td>\n",
       "      <td>...</td>\n",
       "      <td>...</td>\n",
       "      <td>...</td>\n",
       "      <td>...</td>\n",
       "      <td>...</td>\n",
       "      <td>...</td>\n",
       "      <td>...</td>\n",
       "      <td>...</td>\n",
       "      <td>...</td>\n",
       "    </tr>\n",
       "    <tr>\n",
       "      <th>39712</th>\n",
       "      <td>92187</td>\n",
       "      <td>92174</td>\n",
       "      <td>2500</td>\n",
       "      <td>2500</td>\n",
       "      <td>1075.0</td>\n",
       "      <td>36 months</td>\n",
       "      <td>8.07%</td>\n",
       "      <td>78.42</td>\n",
       "      <td>A</td>\n",
       "      <td>A4</td>\n",
       "      <td>...</td>\n",
       "      <td>NaN</td>\n",
       "      <td>NaN</td>\n",
       "      <td>NaN</td>\n",
       "      <td>NaN</td>\n",
       "      <td>NaN</td>\n",
       "      <td>NaN</td>\n",
       "      <td>NaN</td>\n",
       "      <td>NaN</td>\n",
       "      <td>NaN</td>\n",
       "      <td>NaN</td>\n",
       "    </tr>\n",
       "    <tr>\n",
       "      <th>39713</th>\n",
       "      <td>90665</td>\n",
       "      <td>90607</td>\n",
       "      <td>8500</td>\n",
       "      <td>8500</td>\n",
       "      <td>875.0</td>\n",
       "      <td>36 months</td>\n",
       "      <td>10.28%</td>\n",
       "      <td>275.38</td>\n",
       "      <td>C</td>\n",
       "      <td>C1</td>\n",
       "      <td>...</td>\n",
       "      <td>NaN</td>\n",
       "      <td>NaN</td>\n",
       "      <td>NaN</td>\n",
       "      <td>NaN</td>\n",
       "      <td>NaN</td>\n",
       "      <td>NaN</td>\n",
       "      <td>NaN</td>\n",
       "      <td>NaN</td>\n",
       "      <td>NaN</td>\n",
       "      <td>NaN</td>\n",
       "    </tr>\n",
       "    <tr>\n",
       "      <th>39714</th>\n",
       "      <td>90395</td>\n",
       "      <td>90390</td>\n",
       "      <td>5000</td>\n",
       "      <td>5000</td>\n",
       "      <td>1325.0</td>\n",
       "      <td>36 months</td>\n",
       "      <td>8.07%</td>\n",
       "      <td>156.84</td>\n",
       "      <td>A</td>\n",
       "      <td>A4</td>\n",
       "      <td>...</td>\n",
       "      <td>NaN</td>\n",
       "      <td>NaN</td>\n",
       "      <td>NaN</td>\n",
       "      <td>NaN</td>\n",
       "      <td>NaN</td>\n",
       "      <td>NaN</td>\n",
       "      <td>NaN</td>\n",
       "      <td>NaN</td>\n",
       "      <td>NaN</td>\n",
       "      <td>NaN</td>\n",
       "    </tr>\n",
       "    <tr>\n",
       "      <th>39715</th>\n",
       "      <td>90376</td>\n",
       "      <td>89243</td>\n",
       "      <td>5000</td>\n",
       "      <td>5000</td>\n",
       "      <td>650.0</td>\n",
       "      <td>36 months</td>\n",
       "      <td>7.43%</td>\n",
       "      <td>155.38</td>\n",
       "      <td>A</td>\n",
       "      <td>A2</td>\n",
       "      <td>...</td>\n",
       "      <td>NaN</td>\n",
       "      <td>NaN</td>\n",
       "      <td>NaN</td>\n",
       "      <td>NaN</td>\n",
       "      <td>NaN</td>\n",
       "      <td>NaN</td>\n",
       "      <td>NaN</td>\n",
       "      <td>NaN</td>\n",
       "      <td>NaN</td>\n",
       "      <td>NaN</td>\n",
       "    </tr>\n",
       "    <tr>\n",
       "      <th>39716</th>\n",
       "      <td>87023</td>\n",
       "      <td>86999</td>\n",
       "      <td>7500</td>\n",
       "      <td>7500</td>\n",
       "      <td>800.0</td>\n",
       "      <td>36 months</td>\n",
       "      <td>13.75%</td>\n",
       "      <td>255.43</td>\n",
       "      <td>E</td>\n",
       "      <td>E2</td>\n",
       "      <td>...</td>\n",
       "      <td>NaN</td>\n",
       "      <td>NaN</td>\n",
       "      <td>NaN</td>\n",
       "      <td>NaN</td>\n",
       "      <td>NaN</td>\n",
       "      <td>NaN</td>\n",
       "      <td>NaN</td>\n",
       "      <td>NaN</td>\n",
       "      <td>NaN</td>\n",
       "      <td>NaN</td>\n",
       "    </tr>\n",
       "  </tbody>\n",
       "</table>\n",
       "<p>39717 rows × 111 columns</p>\n",
       "</div>"
      ],
      "text/plain": [
       "            id  member_id  loan_amnt  funded_amnt  funded_amnt_inv  \\\n",
       "0      1077501    1296599       5000         5000           4975.0   \n",
       "1      1077430    1314167       2500         2500           2500.0   \n",
       "2      1077175    1313524       2400         2400           2400.0   \n",
       "3      1076863    1277178      10000        10000          10000.0   \n",
       "4      1075358    1311748       3000         3000           3000.0   \n",
       "...        ...        ...        ...          ...              ...   \n",
       "39712    92187      92174       2500         2500           1075.0   \n",
       "39713    90665      90607       8500         8500            875.0   \n",
       "39714    90395      90390       5000         5000           1325.0   \n",
       "39715    90376      89243       5000         5000            650.0   \n",
       "39716    87023      86999       7500         7500            800.0   \n",
       "\n",
       "             term int_rate  installment grade sub_grade  ...  \\\n",
       "0       36 months   10.65%       162.87     B        B2  ...   \n",
       "1       60 months   15.27%        59.83     C        C4  ...   \n",
       "2       36 months   15.96%        84.33     C        C5  ...   \n",
       "3       36 months   13.49%       339.31     C        C1  ...   \n",
       "4       60 months   12.69%        67.79     B        B5  ...   \n",
       "...           ...      ...          ...   ...       ...  ...   \n",
       "39712   36 months    8.07%        78.42     A        A4  ...   \n",
       "39713   36 months   10.28%       275.38     C        C1  ...   \n",
       "39714   36 months    8.07%       156.84     A        A4  ...   \n",
       "39715   36 months    7.43%       155.38     A        A2  ...   \n",
       "39716   36 months   13.75%       255.43     E        E2  ...   \n",
       "\n",
       "      num_tl_90g_dpd_24m num_tl_op_past_12m pct_tl_nvr_dlq  percent_bc_gt_75  \\\n",
       "0                    NaN                NaN            NaN               NaN   \n",
       "1                    NaN                NaN            NaN               NaN   \n",
       "2                    NaN                NaN            NaN               NaN   \n",
       "3                    NaN                NaN            NaN               NaN   \n",
       "4                    NaN                NaN            NaN               NaN   \n",
       "...                  ...                ...            ...               ...   \n",
       "39712                NaN                NaN            NaN               NaN   \n",
       "39713                NaN                NaN            NaN               NaN   \n",
       "39714                NaN                NaN            NaN               NaN   \n",
       "39715                NaN                NaN            NaN               NaN   \n",
       "39716                NaN                NaN            NaN               NaN   \n",
       "\n",
       "      pub_rec_bankruptcies tax_liens tot_hi_cred_lim total_bal_ex_mort  \\\n",
       "0                      0.0       0.0             NaN               NaN   \n",
       "1                      0.0       0.0             NaN               NaN   \n",
       "2                      0.0       0.0             NaN               NaN   \n",
       "3                      0.0       0.0             NaN               NaN   \n",
       "4                      0.0       0.0             NaN               NaN   \n",
       "...                    ...       ...             ...               ...   \n",
       "39712                  NaN       NaN             NaN               NaN   \n",
       "39713                  NaN       NaN             NaN               NaN   \n",
       "39714                  NaN       NaN             NaN               NaN   \n",
       "39715                  NaN       NaN             NaN               NaN   \n",
       "39716                  NaN       NaN             NaN               NaN   \n",
       "\n",
       "      total_bc_limit total_il_high_credit_limit  \n",
       "0                NaN                        NaN  \n",
       "1                NaN                        NaN  \n",
       "2                NaN                        NaN  \n",
       "3                NaN                        NaN  \n",
       "4                NaN                        NaN  \n",
       "...              ...                        ...  \n",
       "39712            NaN                        NaN  \n",
       "39713            NaN                        NaN  \n",
       "39714            NaN                        NaN  \n",
       "39715            NaN                        NaN  \n",
       "39716            NaN                        NaN  \n",
       "\n",
       "[39717 rows x 111 columns]"
      ]
     },
     "execution_count": 275,
     "metadata": {},
     "output_type": "execute_result"
    }
   ],
   "source": [
    "df = pd.read_csv(r\"F:\\upgrad\\lending case study\\loan.csv\")\n",
    "print (df.shape)\n",
    "df"
   ]
  },
  {
   "cell_type": "code",
   "execution_count": 276,
   "metadata": {},
   "outputs": [
    {
     "name": "stdout",
     "output_type": "stream",
     "text": [
      "Number of fully null columns:  54\n"
     ]
    },
    {
     "data": {
      "text/plain": [
       "(39717, 57)"
      ]
     },
     "execution_count": 276,
     "metadata": {},
     "output_type": "execute_result"
    }
   ],
   "source": [
    "#removing columns that are fully null.\n",
    "\n",
    "nulls = df.isnull().sum()\n",
    "print(\"Number of fully null columns: \",nulls[nulls == 39717].count())\n",
    "# 54 out of 111 have null vaulues.\n",
    "\n",
    "to_drop = nulls[nulls==39717]\n",
    "df=df.drop(columns=to_drop.index)\n",
    "df.shape"
   ]
  },
  {
   "cell_type": "code",
   "execution_count": 277,
   "metadata": {
    "scrolled": true
   },
   "outputs": [
    {
     "data": {
      "text/plain": [
       "next_pymnt_d                  97.129693\n",
       "mths_since_last_record        92.985372\n",
       "mths_since_last_delinq        64.662487\n",
       "desc                          32.580507\n",
       "emp_title                      6.191303\n",
       "emp_length                     2.706650\n",
       "pub_rec_bankruptcies           1.754916\n",
       "last_pymnt_d                   0.178765\n",
       "chargeoff_within_12_mths       0.140998\n",
       "collections_12_mths_ex_med     0.140998\n",
       "dtype: float64"
      ]
     },
     "execution_count": 277,
     "metadata": {},
     "output_type": "execute_result"
    }
   ],
   "source": [
    "# checking the % of null values in column after removing fully null columns.\n",
    "a = df.isnull().sum()/len(df)*100 \n",
    "a.sort_values(ascending = False).head(10)\n",
    "\n",
    "#Observaton:\n",
    "#From below analysis top 4 columns still have a large amount of null values and must be removed."
   ]
  },
  {
   "cell_type": "code",
   "execution_count": 278,
   "metadata": {},
   "outputs": [],
   "source": [
    "#removing columns with high percentage of null values.\n",
    "to_drop1 = a.sort_values(ascending = False)[:4]\n",
    "df = df.drop(columns =to_drop1.index)"
   ]
  },
  {
   "cell_type": "code",
   "execution_count": 279,
   "metadata": {
    "scrolled": false
   },
   "outputs": [
    {
     "name": "stdout",
     "output_type": "stream",
     "text": [
      "pymnt_plan                    1\n",
      "initial_list_status           1\n",
      "collections_12_mths_ex_med    1\n",
      "policy_code                   1\n",
      "application_type              1\n",
      "acc_now_delinq                1\n",
      "chargeoff_within_12_mths      1\n",
      "delinq_amnt                   1\n",
      "tax_liens                     1\n",
      "dtype: int64\n"
     ]
    }
   ],
   "source": [
    "# finding unique values in each columns.\n",
    "u = df.nunique() \n",
    "print(u[u==1])\n",
    "#these columns have only one unique values and can be removed.\n",
    "\n",
    "to_drop2 = u[u==1].index\n",
    "df = df.drop(columns = to_drop2)"
   ]
  },
  {
   "cell_type": "code",
   "execution_count": 280,
   "metadata": {},
   "outputs": [
    {
     "data": {
      "text/plain": [
       "(39717, 40)"
      ]
     },
     "execution_count": 280,
     "metadata": {},
     "output_type": "execute_result"
    }
   ],
   "source": [
    "#dropping columns thatl are not necessary.\n",
    "to_drop3 = ['id','member_id','url','zip_code']\n",
    "df.drop(columns = to_drop3,inplace=True)\n",
    "df.shape"
   ]
  },
  {
   "cell_type": "code",
   "execution_count": 281,
   "metadata": {},
   "outputs": [],
   "source": [
    "#removing null values\n",
    "df = df.dropna()"
   ]
  },
  {
   "cell_type": "markdown",
   "metadata": {},
   "source": [
    "UNIVARITE & SEGMENTED UNIVARIATE ANALYSIS"
   ]
  },
  {
   "cell_type": "markdown",
   "metadata": {},
   "source": [
    "Quantitative Variables:\n",
    "\n",
    "    1.Loan amount\n",
    "    2.funded amount\n",
    "    3.funded_amt_inv\n",
    "    4.Interest Rate \n",
    "    5.Annual income \n"
   ]
  },
  {
   "cell_type": "code",
   "execution_count": 282,
   "metadata": {},
   "outputs": [
    {
     "name": "stdout",
     "output_type": "stream",
     "text": [
      "count    36433.000000\n",
      "mean     11307.679851\n",
      "std       7433.859357\n",
      "min        500.000000\n",
      "25%       5600.000000\n",
      "50%      10000.000000\n",
      "75%      15000.000000\n",
      "max      35000.000000\n",
      "Name: loan_amnt, dtype: float64\n",
      "\n",
      "5000-10000     11887\n",
      "0-5000          8521\n",
      "10000-15000     7488\n",
      "15000-20000     4294\n",
      "20000-30000     3488\n",
      "30000-35000      755\n",
      "35000-40000        0\n",
      "Name: loan_amt_range, dtype: int64\n"
     ]
    },
    {
     "data": {
      "image/png": "[encoded data removed]",
      "text/plain": [
       "<Figure size 432x288 with 1 Axes>"
      ]
     },
     "metadata": {
      "needs_background": "light"
     },
     "output_type": "display_data"
    }
   ],
   "source": [
    "sns.boxplot(df['loan_amnt'])\n",
    "print(df['loan_amnt'].describe())\n",
    "print()\n",
    "#Conclusion:---majority if the loan applicants applied for a loan amount between 5000 and 15000.---\n",
    "\n",
    "# creating a new column for loan amount ranges to analyse against other variables.\n",
    "bins = [0, 5000, 10000, 15000, 20000, 30000,35000, 40000]\n",
    "rnge = ['0-5000', '5000-10000', '10000-15000', '15000-20000', '20000-30000', '30000-35000',\n",
    "       '35000-40000']\n",
    "df['loan_amt_range'] = pd.cut(df['loan_amnt'], bins, labels = rnge)\n",
    "print(df['loan_amt_range'].value_counts())\n",
    "\n",
    "#observation:\n",
    "#32.79 % loans were b/w 5000-10000.\n",
    "#23.54 % loans were b/w 0-5000.\n",
    "#20.59 % were b/w 10000-15000."
   ]
  },
  {
   "cell_type": "code",
   "execution_count": 283,
   "metadata": {},
   "outputs": [
    {
     "name": "stdout",
     "output_type": "stream",
     "text": [
      "Conclusion:---Funded amount data behaves similar to loan Amount, Which tells us that Lending club approved most of Applied loan amount.\n"
     ]
    },
    {
     "data": {
      "image/png": "[encoded data removed]",
      "text/plain": [
       "<Figure size 432x288 with 1 Axes>"
      ]
     },
     "metadata": {
      "needs_background": "light"
     },
     "output_type": "display_data"
    }
   ],
   "source": [
    "sns.boxplot(df['funded_amnt'])\n",
    "df['funded_amnt'].describe()\n",
    "print('Conclusion:---Funded amount data behaves similar to loan Amount, Which tells us that Lending club approved most of Applied loan amount.')"
   ]
  },
  {
   "cell_type": "code",
   "execution_count": 284,
   "metadata": {},
   "outputs": [
    {
     "data": {
      "text/plain": [
       "1        15.27\n",
       "3        13.49\n",
       "4        12.69\n",
       "5         7.90\n",
       "6        15.96\n",
       "         ...  \n",
       "39551    10.91\n",
       "39562    10.28\n",
       "39623    12.49\n",
       "39666    11.22\n",
       "39680    11.86\n",
       "Name: int_rate, Length: 36433, dtype: float64"
      ]
     },
     "execution_count": 284,
     "metadata": {},
     "output_type": "execute_result"
    }
   ],
   "source": [
    "#removing % sign from interest rate column, and converting datatype into float,in order to plot data.\n",
    "df['int_rate'] = df['int_rate'].str.rstrip('%').astype(float)\n",
    "df['int_rate']"
   ]
  },
  {
   "cell_type": "code",
   "execution_count": 285,
   "metadata": {},
   "outputs": [
    {
     "name": "stdout",
     "output_type": "stream",
     "text": [
      "count    36433.000000\n",
      "mean        12.073862\n",
      "std          3.734758\n",
      "min          5.420000\n",
      "25%          9.320000\n",
      "50%         11.860000\n",
      "75%         14.650000\n",
      "max         24.400000\n",
      "Name: int_rate, dtype: float64\n",
      "\n",
      "Conclusion:--interest rate on majority of loans were between 9.3% and 14.6%\n"
     ]
    },
    {
     "data": {
      "image/png": "[encoded data removed]",
      "text/plain": [
       "<Figure size 432x288 with 1 Axes>"
      ]
     },
     "metadata": {
      "needs_background": "light"
     },
     "output_type": "display_data"
    }
   ],
   "source": [
    "sns.boxplot(df['int_rate'])\n",
    "print(df['int_rate'].describe())\n",
    "print()\n",
    "print('Conclusion:--interest rate on majority of loans were between 9.3% and 14.6%')"
   ]
  },
  {
   "cell_type": "code",
   "execution_count": 286,
   "metadata": {},
   "outputs": [
    {
     "name": "stdout",
     "output_type": "stream",
     "text": [
      "               count       mean       std   min    25%    50%    75%    max\n",
      "loan_status                                                                \n",
      "Charged Off   4943.0  13.929828  3.647619  5.42  11.49  13.79  16.45  24.40\n",
      "Current       1066.0  15.072880  3.556882  6.00  11.99  14.65  17.99  23.91\n",
      "Fully Paid   30424.0  11.667243  3.613734  5.42   8.59  11.49  14.09  24.11\n",
      "\n"
     ]
    },
    {
     "data": {
      "text/plain": [
       "<matplotlib.axes._subplots.AxesSubplot at 0x22eb601e5c8>"
      ]
     },
     "execution_count": 286,
     "metadata": {},
     "output_type": "execute_result"
    },
    {
     "data": {
      "image/png": "[encoded data removed]",
      "text/plain": [
       "<Figure size 432x288 with 1 Axes>"
      ]
     },
     "metadata": {
      "needs_background": "light"
     },
     "output_type": "display_data"
    }
   ],
   "source": [
    "#comparing interest rates with laon status.\n",
    "print(df.groupby(by='loan_status').int_rate.describe())\n",
    "print()\n",
    "sns.boxplot(x='int_rate',y='loan_status',data=df)\n",
    "\n",
    "\n",
    "#Observation:\n",
    "#defaulters have higher interest than fully paid customers.\n",
    "# fully paid- 8.59 to 13.99 \n",
    "# charged off- 11.48 to 16.45"
   ]
  },
  {
   "cell_type": "code",
   "execution_count": 287,
   "metadata": {},
   "outputs": [],
   "source": [
    "# removing outliers from annual income\n",
    "df = df[df[\"annual_inc\"] < df[\"annual_inc\"].quantile(0.99)] "
   ]
  },
  {
   "cell_type": "code",
   "execution_count": 288,
   "metadata": {},
   "outputs": [
    {
     "data": {
      "text/plain": [
       "count     36064.000000\n",
       "mean      65910.824714\n",
       "std       34439.924455\n",
       "min        4000.000000\n",
       "25%       41500.000000\n",
       "50%       59779.505000\n",
       "75%       81717.000000\n",
       "max      228000.000000\n",
       "Name: annual_inc, dtype: float64"
      ]
     },
     "execution_count": 288,
     "metadata": {},
     "output_type": "execute_result"
    },
    {
     "data": {
      "image/png": "[encoded data removed]",
      "text/plain": [
       "<Figure size 1152x576 with 2 Axes>"
      ]
     },
     "metadata": {
      "needs_background": "light"
     },
     "output_type": "display_data"
    }
   ],
   "source": [
    "plt.figure(figsize=(16,8))\n",
    "plt.subplot(2,2,1)\n",
    "sns.distplot(df['annual_inc'],rug=True)\n",
    "plt.subplot(2,2,2)\n",
    "sns.boxplot(df['annual_inc'])\n",
    "df['annual_inc'].describe()\n",
    "\n",
    "#Observations :\n",
    "#Below plots show that most of the borrower's Annual incomes are in range of 40000- 80000."
   ]
  },
  {
   "cell_type": "markdown",
   "metadata": {},
   "source": [
    "Unordered Categorical Variables are:\n",
    "\n",
    "    1. loan_status\n",
    "    2. home_ownership\n",
    "    3. purpose\n",
    "    4. addr_state"
   ]
  },
  {
   "cell_type": "code",
   "execution_count": 289,
   "metadata": {},
   "outputs": [
    {
     "data": {
      "text/plain": [
       "Fully Paid     30103\n",
       "Charged Off     4908\n",
       "Current         1053\n",
       "Name: loan_status, dtype: int64"
      ]
     },
     "execution_count": 289,
     "metadata": {},
     "output_type": "execute_result"
    },
    {
     "data": {
      "image/png": "[encoded data removed]",
      "text/plain": [
       "<Figure size 432x288 with 1 Axes>"
      ]
     },
     "metadata": {
      "needs_background": "light"
     },
     "output_type": "display_data"
    }
   ],
   "source": [
    "#Unordered Categorical Variable: loan_status\n",
    "sns.countplot(df['loan_status'])\n",
    "df['loan_status'].value_counts()\n",
    "\n",
    "#Observation:\n",
    "#14% loans were charged off out of total loan issued."
   ]
  },
  {
   "cell_type": "code",
   "execution_count": 290,
   "metadata": {},
   "outputs": [
    {
     "name": "stdout",
     "output_type": "stream",
     "text": [
      "RENT        17381\n",
      "MORTGAGE    16041\n",
      "OWN          2550\n",
      "OTHER          92\n",
      "Name: home_ownership, dtype: int64\n",
      "\n",
      "---loan_status and home ownership segmented analysis---\n",
      "loan_status  home_ownership\n",
      "Charged Off  RENT               2504\n",
      "             MORTGAGE           2042\n",
      "             OWN                 344\n",
      "             OTHER                18\n",
      "Current      MORTGAGE            588\n",
      "             RENT                396\n",
      "             OWN                  69\n",
      "Fully Paid   RENT              14481\n",
      "             MORTGAGE          13411\n",
      "             OWN                2137\n",
      "             OTHER                74\n",
      "Name: home_ownership, dtype: int64\n"
     ]
    },
    {
     "data": {
      "image/png": "[encoded data removed]",
      "text/plain": [
       "<Figure size 864x432 with 1 Axes>"
      ]
     },
     "metadata": {
      "needs_background": "light"
     },
     "output_type": "display_data"
    }
   ],
   "source": [
    "#Unordered Categorical Variable: home_ownership\n",
    "\n",
    "print(df['home_ownership'].value_counts())\n",
    "print()\n",
    "print('---loan_status and home ownership segmented analysis---')\n",
    "\n",
    "print(df.groupby(by='loan_status').home_ownership.value_counts())\n",
    "\n",
    "plt.figure(figsize=(12,6))\n",
    "ax = sns.countplot(x=\"home_ownership\",data=df,hue='loan_status',palette='GnBu_d')\n",
    "ax.legend(bbox_to_anchor=(1, 1))\n",
    "ax.set_title('Home Ownership',fontsize=14,color='w')\n",
    "ax.set_xlabel('Home Ownership',fontsize=14,color = 'w')\n",
    "ax.set_ylabel('Loan Application Count',fontsize=14,color = 'w')      \n",
    "plt.show()\n",
    "\n",
    "#Observation:\n",
    "# rented home or mortgazed their home applicants have high charged off numbers,\n",
    "# but this could be because of high number of applicants from these categories."
   ]
  },
  {
   "cell_type": "code",
   "execution_count": 291,
   "metadata": {},
   "outputs": [
    {
     "data": {
      "image/png": "[encoded data removed]",
      "text/plain": [
       "<Figure size 864x288 with 1 Axes>"
      ]
     },
     "metadata": {
      "needs_background": "light"
     },
     "output_type": "display_data"
    }
   ],
   "source": [
    "#Unordered Categorical Variable: purpose\n",
    "\n",
    "plt.figure(figsize=(12,4))\n",
    "\n",
    "p = df['purpose'].value_counts(normalize=True).reset_index()\n",
    "\n",
    "sns.barplot(x='index', y='purpose', data=p)\n",
    "plt.xlabel('Purpose')\n",
    "plt.xticks(rotation=90)\n",
    "plt.ylabel('Proportions')\n",
    "plt.show()\n",
    "\n",
    "#Observation:\n",
    "#Looks line more number of people took loan for debt consolidation & paying credit card bill."
   ]
  },
  {
   "cell_type": "code",
   "execution_count": 292,
   "metadata": {},
   "outputs": [
    {
     "name": "stdout",
     "output_type": "stream",
     "text": [
      "loan_status  purpose           \n",
      "Charged Off  debt_consolidation     2496\n",
      "             other                   543\n",
      "             credit_card             474\n",
      "             small_business          355\n",
      "             home_improvement        289\n",
      "             major_purchase          188\n",
      "             car                     149\n",
      "             medical                  95\n",
      "             wedding                  82\n",
      "             moving                   78\n",
      "             house                    51\n",
      "             vacation                 49\n",
      "             educational              44\n",
      "             renewable_energy         15\n",
      "Current      debt_consolidation      553\n",
      "             other                   112\n",
      "             credit_card              99\n",
      "             home_improvement         87\n",
      "             small_business           63\n",
      "             car                      48\n",
      "             major_purchase           35\n",
      "             wedding                  20\n",
      "             house                    13\n",
      "             medical                  12\n",
      "             moving                    6\n",
      "             vacation                  4\n",
      "             renewable_energy          1\n",
      "Fully Paid   debt_consolidation    14286\n",
      "             credit_card            4112\n",
      "             other                  2887\n",
      "             home_improvement       2253\n",
      "             major_purchase         1764\n",
      "             car                    1239\n",
      "             small_business          976\n",
      "             wedding                 775\n",
      "             medical                 520\n",
      "             moving                  439\n",
      "             vacation                283\n",
      "             house                   269\n",
      "             educational             230\n",
      "             renewable_energy         70\n",
      "Name: purpose, dtype: int64\n"
     ]
    },
    {
     "data": {
      "image/png": "[encoded data removed]",
      "text/plain": [
       "<Figure size 1080x576 with 1 Axes>"
      ]
     },
     "metadata": {
      "needs_background": "light"
     },
     "output_type": "display_data"
    }
   ],
   "source": [
    "#analysis b/w loan status and home ownership.\n",
    "\n",
    "print(df.groupby(by='loan_status').purpose.value_counts())\n",
    "plt.figure(figsize=(15,8))\n",
    "ax = sns.countplot(y=\"purpose\",data=df,hue='loan_status',palette='GnBu_d')\n",
    "ax.set_title('Purpose Of Loan',fontsize=14,color='w')\n",
    "ax.set_ylabel('Purpose Of Loan',fontsize=14,color = 'w')\n",
    "ax.set_xlabel('Loan Application Count',fontsize=14,color = 'w')      \n",
    "plt.show()\n",
    "\n",
    "#Obrservation:\n",
    "#charged off count is higher too in debt consolidation & paying credit card bill categories."
   ]
  },
  {
   "cell_type": "code",
   "execution_count": 293,
   "metadata": {},
   "outputs": [
    {
     "data": {
      "image/png": "[encoded data removed]",
      "text/plain": [
       "<Figure size 864x288 with 1 Axes>"
      ]
     },
     "metadata": {
      "needs_background": "light"
     },
     "output_type": "display_data"
    }
   ],
   "source": [
    "#Unordered Categorical Variable: addr_state\n",
    "plt.figure(figsize=(12,4))\n",
    "\n",
    "states = df['addr_state'].value_counts().reset_index()\n",
    "sns.barplot(x ='index',y ='addr_state',data = states)\n",
    "plt.xticks(rotation =90)\n",
    "plt.ylabel('Proportion')\n",
    "plt.xlabel('STATE')\n",
    "plt.show()\n",
    "\n",
    "#Observation:\n",
    "#Most of the borrowers are from CA and NY"
   ]
  },
  {
   "cell_type": "code",
   "execution_count": 294,
   "metadata": {},
   "outputs": [
    {
     "name": "stdout",
     "output_type": "stream",
     "text": [
      "count    36064.000000\n",
      "mean        13.504043\n",
      "std          6.628427\n",
      "min          0.000000\n",
      "25%          8.440000\n",
      "50%         13.610000\n",
      "75%         18.730000\n",
      "max         29.990000\n",
      "Name: dti, dtype: float64\n"
     ]
    },
    {
     "data": {
      "text/plain": [
       "<matplotlib.axes._subplots.AxesSubplot at 0x22eb77f98c8>"
      ]
     },
     "execution_count": 294,
     "metadata": {},
     "output_type": "execute_result"
    },
    {
     "data": {
      "image/png": "[encoded data removed]",
      "text/plain": [
       "<Figure size 432x288 with 1 Axes>"
      ]
     },
     "metadata": {
      "needs_background": "light"
     },
     "output_type": "display_data"
    }
   ],
   "source": [
    "print(df['dti'].describe())\n",
    "sns.boxplot(df['dti'])\n",
    "\n",
    "#observation:\n",
    "# debt to income ratio among participants is b/w 8.27 and 18.64."
   ]
  },
  {
   "cell_type": "markdown",
   "metadata": {},
   "source": [
    "Ordered Categorical Variables:\n",
    "\n",
    "     1.issue_d\n",
    "     2.Loan Paying Term\n",
    "     3.grade\n",
    "     4.sub-grade\n",
    "     5.emp_length"
   ]
  },
  {
   "cell_type": "code",
   "execution_count": 295,
   "metadata": {},
   "outputs": [
    {
     "name": "stderr",
     "output_type": "stream",
     "text": [
      "F:\\ anaconda python\\lib\\site-packages\\ipykernel_launcher.py:3: FutureWarning: Columnar iteration over characters will be deprecated in future releases.\n",
      "  This is separate from the ipykernel package so we can avoid doing imports until\n"
     ]
    }
   ],
   "source": [
    "# Derived Variable: creating month and year column from issue date.\n",
    "\n",
    "m,y=df['issue_d'].str.split('-').str"
   ]
  },
  {
   "cell_type": "code",
   "execution_count": 296,
   "metadata": {},
   "outputs": [],
   "source": [
    "df['month']=m\n",
    "df['year']=y"
   ]
  },
  {
   "cell_type": "code",
   "execution_count": 297,
   "metadata": {},
   "outputs": [
    {
     "name": "stdout",
     "output_type": "stream",
     "text": [
      "11    19959\n",
      "10    10680\n",
      "09     4371\n",
      "08     1048\n",
      "07        6\n",
      "Name: year, dtype: int64\n"
     ]
    },
    {
     "data": {
      "image/png": "[encoded data removed]",
      "text/plain": [
       "<Figure size 1008x432 with 1 Axes>"
      ]
     },
     "metadata": {
      "needs_background": "light"
     },
     "output_type": "display_data"
    },
    {
     "name": "stdout",
     "output_type": "stream",
     "text": [
      "loan_status  year\n",
      "Charged Off  11       2919\n",
      "             10       1292\n",
      "             09        536\n",
      "             08        159\n",
      "             07          2\n",
      "Current      11       1053\n",
      "Fully Paid   11      15987\n",
      "             10       9388\n",
      "             09       3835\n",
      "             08        889\n",
      "             07          4\n",
      "Name: year, dtype: int64\n"
     ]
    }
   ],
   "source": [
    "# univariate analysis of loans by year.\n",
    "print(df['year'].value_counts())\n",
    "plt.figure(figsize=(14,6))\n",
    "sns.countplot(data=df,hue='loan_status',x='year')\n",
    "plt.show()\n",
    "print(df.groupby(by='loan_status').year.value_counts())\n",
    "\n",
    "#obsevation:\n",
    "#charged off numbers are increasing every year, but this could be due to increase in loan applications every year."
   ]
  },
  {
   "cell_type": "code",
   "execution_count": 298,
   "metadata": {},
   "outputs": [
    {
     "name": "stdout",
     "output_type": "stream",
     "text": [
      "Dec    3991\n",
      "Nov    3789\n",
      "Oct    3550\n",
      "Sep    3384\n",
      "Aug    3281\n",
      "Jul    3202\n",
      "Jun    3034\n",
      "May    2787\n",
      "Apr    2650\n",
      "Mar    2371\n",
      "Jan    2024\n",
      "Feb    2001\n",
      "Name: month, dtype: int64\n",
      "loan_status  month\n",
      "Charged Off  Dec       595\n",
      "             Nov       515\n",
      "             Oct       506\n",
      "             Sep       494\n",
      "             Jul       429\n",
      "             Aug       426\n",
      "             Jun       426\n",
      "             May       419\n",
      "             Apr       339\n",
      "             Mar       286\n",
      "             Jan       254\n",
      "             Feb       219\n",
      "Current      Dec       208\n",
      "             Oct       157\n",
      "             Sep       144\n",
      "             Nov       142\n",
      "             Aug       117\n",
      "             Jul       115\n",
      "             Jun        92\n",
      "             May        74\n",
      "             Apr         3\n",
      "             Mar         1\n",
      "Fully Paid   Dec      3188\n",
      "             Nov      3132\n",
      "             Oct      2887\n",
      "             Sep      2746\n",
      "             Aug      2738\n",
      "             Jul      2658\n",
      "             Jun      2516\n",
      "             Apr      2308\n",
      "             May      2294\n",
      "             Mar      2084\n",
      "             Feb      1782\n",
      "             Jan      1770\n",
      "Name: month, dtype: int64\n"
     ]
    },
    {
     "data": {
      "image/png": "[encoded data removed]",
      "text/plain": [
       "<Figure size 1008x432 with 1 Axes>"
      ]
     },
     "metadata": {
      "needs_background": "light"
     },
     "output_type": "display_data"
    }
   ],
   "source": [
    "# univariate analysis of loans by month.\n",
    "plt.figure(figsize=(14,6))\n",
    "print(df['month'].value_counts())\n",
    "sns.countplot(data=df,hue='loan_status',x='month')\n",
    "print(df.groupby(by='loan_status').month.value_counts())\n",
    "\n",
    "# charged off numbers are highest during last 2 months of year."
   ]
  },
  {
   "cell_type": "code",
   "execution_count": 299,
   "metadata": {},
   "outputs": [
    {
     "name": "stdout",
     "output_type": "stream",
     "text": [
      " 36 months    26129\n",
      " 60 months     9935\n",
      "Name: term, dtype: int64\n",
      "\n",
      "loan_status  term      \n",
      "Charged Off   36 months     2710\n",
      "              60 months     2198\n",
      "Current       60 months     1053\n",
      "Fully Paid    36 months    23419\n",
      "              60 months     6684\n",
      "Name: term, dtype: int64\n"
     ]
    },
    {
     "data": {
      "text/plain": [
       "<matplotlib.axes._subplots.AxesSubplot at 0x22ebdaee588>"
      ]
     },
     "execution_count": 299,
     "metadata": {},
     "output_type": "execute_result"
    },
    {
     "data": {
      "image/png": "[encoded data removed]",
      "text/plain": [
       "<Figure size 864x288 with 1 Axes>"
      ]
     },
     "metadata": {
      "needs_background": "light"
     },
     "output_type": "display_data"
    }
   ],
   "source": [
    "## univariate analysis of: term.\n",
    "print(df['term'].value_counts())\n",
    "print()\n",
    "print(df.groupby(by='loan_status').term.value_counts())\n",
    "# term with loan status\n",
    "plt.figure(figsize=(12,4))\n",
    "sns.countplot(data = df,x ='term',hue='loan_status',palette='GnBu_d')\n",
    "\n",
    "#People who take 60 months to repay loan had higher % of getting charged off as compared to those who took 36 months."
   ]
  },
  {
   "cell_type": "code",
   "execution_count": 300,
   "metadata": {},
   "outputs": [
    {
     "data": {
      "text/plain": [
       "<matplotlib.axes._subplots.AxesSubplot at 0x22ebda97048>"
      ]
     },
     "execution_count": 300,
     "metadata": {},
     "output_type": "execute_result"
    },
    {
     "data": {
      "image/png": "[encoded data removed]",
      "text/plain": [
       "<Figure size 432x288 with 1 Axes>"
      ]
     },
     "metadata": {
      "needs_background": "light"
     },
     "output_type": "display_data"
    }
   ],
   "source": [
    "sns.boxplot(x='term', y=df['loan_amnt'], data=df)\n",
    "\n",
    "#Observation:\n",
    "#Higher amount loans have high tenure i.e 60 months"
   ]
  },
  {
   "cell_type": "code",
   "execution_count": 301,
   "metadata": {
    "scrolled": true
   },
   "outputs": [
    {
     "name": "stdout",
     "output_type": "stream",
     "text": [
      "B    10948\n",
      "A     9116\n",
      "C     7353\n",
      "D     4816\n",
      "E     2596\n",
      "F      947\n",
      "G      288\n",
      "Name: grade, dtype: int64\n"
     ]
    },
    {
     "data": {
      "text/plain": [
       "<matplotlib.axes._subplots.AxesSubplot at 0x22ebda202c8>"
      ]
     },
     "execution_count": 301,
     "metadata": {},
     "output_type": "execute_result"
    },
    {
     "data": {
      "image/png": "[encoded data removed]",
      "text/plain": [
       "<Figure size 432x288 with 1 Axes>"
      ]
     },
     "metadata": {
      "needs_background": "light"
     },
     "output_type": "display_data"
    }
   ],
   "source": [
    "# univariate analysis of grade\n",
    "#ordered Categorical Variable: grade\n",
    "print(df['grade'].value_counts())\n",
    "sns.countplot(df['grade'])\n",
    "\n",
    "\n",
    "#Grade A and B had most number of people.\n",
    "# Grade \"F\" and \"G\" have very high chances of charged off.\n",
    "# Chances of charged of is increasing with grade moving from \"A\" towards \"G\""
   ]
  },
  {
   "cell_type": "code",
   "execution_count": 302,
   "metadata": {},
   "outputs": [
    {
     "data": {
      "image/png": "[encoded data removed]",
      "text/plain": [
       "<Figure size 864x288 with 1 Axes>"
      ]
     },
     "metadata": {
      "needs_background": "light"
     },
     "output_type": "display_data"
    }
   ],
   "source": [
    "# univariate analysis of sub-grade\n",
    "#ordered Categorical Variable: sub-grade\n",
    "plt.figure(figsize=(12,4))\n",
    "df['sub_grade'].value_counts()\n",
    "sns.countplot(df['sub_grade'])\n",
    "plt.xticks(rotation=90)\n",
    "plt.show()\n",
    "\n"
   ]
  },
  {
   "cell_type": "code",
   "execution_count": 303,
   "metadata": {},
   "outputs": [
    {
     "data": {
      "text/plain": [
       "1        < 1 \n",
       "3        10+ \n",
       "4          1 \n",
       "5          3 \n",
       "6          8 \n",
       "         ... \n",
       "39551      2 \n",
       "39562      1 \n",
       "39623      8 \n",
       "39666      2 \n",
       "39680      2 \n",
       "Name: emp_length, Length: 36064, dtype: object"
      ]
     },
     "execution_count": 303,
     "metadata": {},
     "output_type": "execute_result"
    }
   ],
   "source": [
    "#ordered Categorical Variable: emp_length\n",
    "\n",
    "#cleaning emp_length column for analysis: string manipulation.\n",
    "df['emp_length']= df['emp_length'].str.rstrip('years')\n",
    "df['emp_length']"
   ]
  },
  {
   "cell_type": "code",
   "execution_count": 304,
   "metadata": {},
   "outputs": [
    {
     "name": "stdout",
     "output_type": "stream",
     "text": [
      "10+     8281\n",
      "2       4136\n",
      "< 1     4024\n",
      "3       3879\n",
      "4       3272\n",
      "5       3103\n",
      "1       2998\n",
      "6       2100\n",
      "7       1683\n",
      "8       1390\n",
      "9       1198\n",
      "Name: emp_length, dtype: int64\n"
     ]
    },
    {
     "data": {
      "text/plain": [
       "<matplotlib.axes._subplots.AxesSubplot at 0x22ebdcc6548>"
      ]
     },
     "execution_count": 304,
     "metadata": {},
     "output_type": "execute_result"
    },
    {
     "data": {
      "image/png": "[encoded data removed]",
      "text/plain": [
       "<Figure size 432x288 with 1 Axes>"
      ]
     },
     "metadata": {
      "needs_background": "light"
     },
     "output_type": "display_data"
    }
   ],
   "source": [
    "# univariate analysis of employment length.\n",
    "sns.countplot(df['emp_length'].sort_values())\n",
    "print(df['emp_length'].value_counts())\n",
    "\n",
    "#comparing loan status with employment length.\n",
    "sns.countplot(data = df,x ='emp_length',hue='loan_status')\n",
    "\n",
    "#obsevation:\n",
    "#people with highest employment lengths have higher % of charged off."
   ]
  },
  {
   "cell_type": "code",
   "execution_count": 305,
   "metadata": {
    "scrolled": true
   },
   "outputs": [
    {
     "name": "stdout",
     "output_type": "stream",
     "text": [
      "Not Verified       14982\n",
      "Verified           11741\n",
      "Source Verified     9341\n",
      "Name: verification_status, dtype: int64\n",
      "\n",
      "----Verification_Status compared with loan status---\n",
      "loan_status  verification_status\n",
      "Charged Off  Verified                1834\n",
      "             Not Verified            1761\n",
      "             Source Verified         1313\n",
      "Current      Verified                 554\n",
      "             Source Verified          283\n",
      "             Not Verified             216\n",
      "Fully Paid   Not Verified           13005\n",
      "             Verified                9353\n",
      "             Source Verified         7745\n",
      "Name: verification_status, dtype: int64\n"
     ]
    },
    {
     "data": {
      "text/plain": [
       "<matplotlib.axes._subplots.AxesSubplot at 0x22ebddb2588>"
      ]
     },
     "execution_count": 305,
     "metadata": {},
     "output_type": "execute_result"
    },
    {
     "data": {
      "image/png": "[encoded data removed]",
      "text/plain": [
       "<Figure size 432x288 with 1 Axes>"
      ]
     },
     "metadata": {
      "needs_background": "light"
     },
     "output_type": "display_data"
    }
   ],
   "source": [
    "# univariate analysis of verification status.\n",
    "\n",
    "print(df['verification_status'].value_counts())\n",
    "print( )\n",
    "print(\"----Verification_Status compared with loan status---\")\n",
    "print(df.groupby(by='loan_status').verification_status.value_counts())\n",
    "sns.countplot(data=df,hue='loan_status',x='verification_status')\n",
    "\n",
    "\n",
    "#we cannot blame non-verification for defaulters.\n",
    "#verified applicants have more default % which means there could be a problem with verifiaction process.\n",
    "#41.25% of loans given were not verified."
   ]
  },
  {
   "cell_type": "markdown",
   "metadata": {},
   "source": [
    "BIVARIATE ANALYSIS"
   ]
  },
  {
   "cell_type": "code",
   "execution_count": null,
   "metadata": {},
   "outputs": [],
   "source": []
  },
  {
   "cell_type": "code",
   "execution_count": 306,
   "metadata": {},
   "outputs": [],
   "source": [
    "#creating a groupby dataframe of important variables with loan status.\n",
    "# calculating charged off proportion.\n",
    "# plotting a barplot for some variable against charged off proportion.\n",
    "\n",
    "def Chargedoff_Proportion(x):\n",
    "    data=df.groupby([x, 'loan_status']).loan_status.count().unstack().reset_index().fillna(0)\n",
    "    data['Total'] = data['Charged Off'] + data['Current'] + data['Fully Paid'] \n",
    "    data['Chargedoff_Proportion'] = data['Charged Off']/data['Total']\n",
    "    plt.figure(figsize=(14,6))\n",
    "    sns.barplot(data=data,x=x,y='Chargedoff_Proportion')\n",
    "    plt.xticks(rotation=90)\n",
    "    return data"
   ]
  },
  {
   "cell_type": "code",
   "execution_count": 307,
   "metadata": {},
   "outputs": [
    {
     "data": {
      "text/html": [
       "<div>\n",
       "<style scoped>\n",
       "    .dataframe tbody tr th:only-of-type {\n",
       "        vertical-align: middle;\n",
       "    }\n",
       "\n",
       "    .dataframe tbody tr th {\n",
       "        vertical-align: top;\n",
       "    }\n",
       "\n",
       "    .dataframe thead th {\n",
       "        text-align: right;\n",
       "    }\n",
       "</style>\n",
       "<table border=\"1\" class=\"dataframe\">\n",
       "  <thead>\n",
       "    <tr style=\"text-align: right;\">\n",
       "      <th>loan_status</th>\n",
       "      <th>term</th>\n",
       "      <th>Charged Off</th>\n",
       "      <th>Current</th>\n",
       "      <th>Fully Paid</th>\n",
       "      <th>Total</th>\n",
       "      <th>Chargedoff_Proportion</th>\n",
       "    </tr>\n",
       "  </thead>\n",
       "  <tbody>\n",
       "    <tr>\n",
       "      <th>0</th>\n",
       "      <td>36 months</td>\n",
       "      <td>2710.0</td>\n",
       "      <td>0.0</td>\n",
       "      <td>23419.0</td>\n",
       "      <td>26129.0</td>\n",
       "      <td>0.103716</td>\n",
       "    </tr>\n",
       "    <tr>\n",
       "      <th>1</th>\n",
       "      <td>60 months</td>\n",
       "      <td>2198.0</td>\n",
       "      <td>1053.0</td>\n",
       "      <td>6684.0</td>\n",
       "      <td>9935.0</td>\n",
       "      <td>0.221238</td>\n",
       "    </tr>\n",
       "  </tbody>\n",
       "</table>\n",
       "</div>"
      ],
      "text/plain": [
       "loan_status        term  Charged Off  Current  Fully Paid    Total  \\\n",
       "0             36 months       2710.0      0.0     23419.0  26129.0   \n",
       "1             60 months       2198.0   1053.0      6684.0   9935.0   \n",
       "\n",
       "loan_status  Chargedoff_Proportion  \n",
       "0                         0.103716  \n",
       "1                         0.221238  "
      ]
     },
     "execution_count": 307,
     "metadata": {},
     "output_type": "execute_result"
    },
    {
     "data": {
      "image/png": "[encoded data removed]",
      "text/plain": [
       "<Figure size 1008x432 with 1 Axes>"
      ]
     },
     "metadata": {
      "needs_background": "light"
     },
     "output_type": "display_data"
    }
   ],
   "source": [
    "Chargedoff_Proportion('term')\n",
    "\n",
    "#observation:\n",
    "#long term loans have higher charged off proportion."
   ]
  },
  {
   "cell_type": "markdown",
   "metadata": {},
   "source": [
    "PURPOSE:\n",
    "\n",
    "    1.Purpose vs Chargedoff_Proportion.\n",
    "    2.loan amount vs Purpose"
   ]
  },
  {
   "cell_type": "code",
   "execution_count": 308,
   "metadata": {},
   "outputs": [
    {
     "data": {
      "text/html": [
       "<div>\n",
       "<style scoped>\n",
       "    .dataframe tbody tr th:only-of-type {\n",
       "        vertical-align: middle;\n",
       "    }\n",
       "\n",
       "    .dataframe tbody tr th {\n",
       "        vertical-align: top;\n",
       "    }\n",
       "\n",
       "    .dataframe thead th {\n",
       "        text-align: right;\n",
       "    }\n",
       "</style>\n",
       "<table border=\"1\" class=\"dataframe\">\n",
       "  <thead>\n",
       "    <tr style=\"text-align: right;\">\n",
       "      <th>loan_status</th>\n",
       "      <th>purpose</th>\n",
       "      <th>Charged Off</th>\n",
       "      <th>Current</th>\n",
       "      <th>Fully Paid</th>\n",
       "      <th>Total</th>\n",
       "      <th>Chargedoff_Proportion</th>\n",
       "    </tr>\n",
       "  </thead>\n",
       "  <tbody>\n",
       "    <tr>\n",
       "      <th>0</th>\n",
       "      <td>car</td>\n",
       "      <td>149.0</td>\n",
       "      <td>48.0</td>\n",
       "      <td>1239.0</td>\n",
       "      <td>1436.0</td>\n",
       "      <td>0.103760</td>\n",
       "    </tr>\n",
       "    <tr>\n",
       "      <th>1</th>\n",
       "      <td>credit_card</td>\n",
       "      <td>474.0</td>\n",
       "      <td>99.0</td>\n",
       "      <td>4112.0</td>\n",
       "      <td>4685.0</td>\n",
       "      <td>0.101174</td>\n",
       "    </tr>\n",
       "    <tr>\n",
       "      <th>2</th>\n",
       "      <td>debt_consolidation</td>\n",
       "      <td>2496.0</td>\n",
       "      <td>553.0</td>\n",
       "      <td>14286.0</td>\n",
       "      <td>17335.0</td>\n",
       "      <td>0.143986</td>\n",
       "    </tr>\n",
       "    <tr>\n",
       "      <th>3</th>\n",
       "      <td>educational</td>\n",
       "      <td>44.0</td>\n",
       "      <td>0.0</td>\n",
       "      <td>230.0</td>\n",
       "      <td>274.0</td>\n",
       "      <td>0.160584</td>\n",
       "    </tr>\n",
       "    <tr>\n",
       "      <th>4</th>\n",
       "      <td>home_improvement</td>\n",
       "      <td>289.0</td>\n",
       "      <td>87.0</td>\n",
       "      <td>2253.0</td>\n",
       "      <td>2629.0</td>\n",
       "      <td>0.109928</td>\n",
       "    </tr>\n",
       "    <tr>\n",
       "      <th>5</th>\n",
       "      <td>house</td>\n",
       "      <td>51.0</td>\n",
       "      <td>13.0</td>\n",
       "      <td>269.0</td>\n",
       "      <td>333.0</td>\n",
       "      <td>0.153153</td>\n",
       "    </tr>\n",
       "    <tr>\n",
       "      <th>6</th>\n",
       "      <td>major_purchase</td>\n",
       "      <td>188.0</td>\n",
       "      <td>35.0</td>\n",
       "      <td>1764.0</td>\n",
       "      <td>1987.0</td>\n",
       "      <td>0.094615</td>\n",
       "    </tr>\n",
       "    <tr>\n",
       "      <th>7</th>\n",
       "      <td>medical</td>\n",
       "      <td>95.0</td>\n",
       "      <td>12.0</td>\n",
       "      <td>520.0</td>\n",
       "      <td>627.0</td>\n",
       "      <td>0.151515</td>\n",
       "    </tr>\n",
       "    <tr>\n",
       "      <th>8</th>\n",
       "      <td>moving</td>\n",
       "      <td>78.0</td>\n",
       "      <td>6.0</td>\n",
       "      <td>439.0</td>\n",
       "      <td>523.0</td>\n",
       "      <td>0.149140</td>\n",
       "    </tr>\n",
       "    <tr>\n",
       "      <th>9</th>\n",
       "      <td>other</td>\n",
       "      <td>543.0</td>\n",
       "      <td>112.0</td>\n",
       "      <td>2887.0</td>\n",
       "      <td>3542.0</td>\n",
       "      <td>0.153303</td>\n",
       "    </tr>\n",
       "    <tr>\n",
       "      <th>10</th>\n",
       "      <td>renewable_energy</td>\n",
       "      <td>15.0</td>\n",
       "      <td>1.0</td>\n",
       "      <td>70.0</td>\n",
       "      <td>86.0</td>\n",
       "      <td>0.174419</td>\n",
       "    </tr>\n",
       "    <tr>\n",
       "      <th>11</th>\n",
       "      <td>small_business</td>\n",
       "      <td>355.0</td>\n",
       "      <td>63.0</td>\n",
       "      <td>976.0</td>\n",
       "      <td>1394.0</td>\n",
       "      <td>0.254663</td>\n",
       "    </tr>\n",
       "    <tr>\n",
       "      <th>12</th>\n",
       "      <td>vacation</td>\n",
       "      <td>49.0</td>\n",
       "      <td>4.0</td>\n",
       "      <td>283.0</td>\n",
       "      <td>336.0</td>\n",
       "      <td>0.145833</td>\n",
       "    </tr>\n",
       "    <tr>\n",
       "      <th>13</th>\n",
       "      <td>wedding</td>\n",
       "      <td>82.0</td>\n",
       "      <td>20.0</td>\n",
       "      <td>775.0</td>\n",
       "      <td>877.0</td>\n",
       "      <td>0.093501</td>\n",
       "    </tr>\n",
       "  </tbody>\n",
       "</table>\n",
       "</div>"
      ],
      "text/plain": [
       "loan_status             purpose  Charged Off  Current  Fully Paid    Total  \\\n",
       "0                           car        149.0     48.0      1239.0   1436.0   \n",
       "1                   credit_card        474.0     99.0      4112.0   4685.0   \n",
       "2            debt_consolidation       2496.0    553.0     14286.0  17335.0   \n",
       "3                   educational         44.0      0.0       230.0    274.0   \n",
       "4              home_improvement        289.0     87.0      2253.0   2629.0   \n",
       "5                         house         51.0     13.0       269.0    333.0   \n",
       "6                major_purchase        188.0     35.0      1764.0   1987.0   \n",
       "7                       medical         95.0     12.0       520.0    627.0   \n",
       "8                        moving         78.0      6.0       439.0    523.0   \n",
       "9                         other        543.0    112.0      2887.0   3542.0   \n",
       "10             renewable_energy         15.0      1.0        70.0     86.0   \n",
       "11               small_business        355.0     63.0       976.0   1394.0   \n",
       "12                     vacation         49.0      4.0       283.0    336.0   \n",
       "13                      wedding         82.0     20.0       775.0    877.0   \n",
       "\n",
       "loan_status  Chargedoff_Proportion  \n",
       "0                         0.103760  \n",
       "1                         0.101174  \n",
       "2                         0.143986  \n",
       "3                         0.160584  \n",
       "4                         0.109928  \n",
       "5                         0.153153  \n",
       "6                         0.094615  \n",
       "7                         0.151515  \n",
       "8                         0.149140  \n",
       "9                         0.153303  \n",
       "10                        0.174419  \n",
       "11                        0.254663  \n",
       "12                        0.145833  \n",
       "13                        0.093501  "
      ]
     },
     "execution_count": 308,
     "metadata": {},
     "output_type": "execute_result"
    },
    {
     "data": {
      "image/png": "[encoded data removed]",
      "text/plain": [
       "<Figure size 1008x432 with 1 Axes>"
      ]
     },
     "metadata": {
      "needs_background": "light"
     },
     "output_type": "display_data"
    }
   ],
   "source": [
    "Chargedoff_Proportion('purpose')\n",
    "# business loans have the highest charged off %."
   ]
  },
  {
   "cell_type": "code",
   "execution_count": 309,
   "metadata": {},
   "outputs": [
    {
     "data": {
      "text/plain": [
       "<matplotlib.axes._subplots.AxesSubplot at 0x22ebe1702c8>"
      ]
     },
     "execution_count": 309,
     "metadata": {},
     "output_type": "execute_result"
    },
    {
     "data": {
      "image/png": "[encoded data removed]",
      "text/plain": [
       "<Figure size 1008x432 with 1 Axes>"
      ]
     },
     "metadata": {
      "needs_background": "light"
     },
     "output_type": "display_data"
    }
   ],
   "source": [
    "plt.figure(figsize=(14,6))\n",
    "sns.boxplot(data=df,x='loan_amnt',y='purpose')\n",
    "\n",
    "# credit card, small business, house , debt_consolidation were given higher amount of loans."
   ]
  },
  {
   "cell_type": "markdown",
   "metadata": {},
   "source": [
    "HOME OWNERSHIP"
   ]
  },
  {
   "cell_type": "code",
   "execution_count": 310,
   "metadata": {},
   "outputs": [
    {
     "data": {
      "text/html": [
       "<div>\n",
       "<style scoped>\n",
       "    .dataframe tbody tr th:only-of-type {\n",
       "        vertical-align: middle;\n",
       "    }\n",
       "\n",
       "    .dataframe tbody tr th {\n",
       "        vertical-align: top;\n",
       "    }\n",
       "\n",
       "    .dataframe thead th {\n",
       "        text-align: right;\n",
       "    }\n",
       "</style>\n",
       "<table border=\"1\" class=\"dataframe\">\n",
       "  <thead>\n",
       "    <tr style=\"text-align: right;\">\n",
       "      <th>loan_status</th>\n",
       "      <th>home_ownership</th>\n",
       "      <th>Charged Off</th>\n",
       "      <th>Current</th>\n",
       "      <th>Fully Paid</th>\n",
       "      <th>Total</th>\n",
       "      <th>Chargedoff_Proportion</th>\n",
       "    </tr>\n",
       "  </thead>\n",
       "  <tbody>\n",
       "    <tr>\n",
       "      <th>0</th>\n",
       "      <td>MORTGAGE</td>\n",
       "      <td>2042.0</td>\n",
       "      <td>588.0</td>\n",
       "      <td>13411.0</td>\n",
       "      <td>16041.0</td>\n",
       "      <td>0.127299</td>\n",
       "    </tr>\n",
       "    <tr>\n",
       "      <th>1</th>\n",
       "      <td>OTHER</td>\n",
       "      <td>18.0</td>\n",
       "      <td>0.0</td>\n",
       "      <td>74.0</td>\n",
       "      <td>92.0</td>\n",
       "      <td>0.195652</td>\n",
       "    </tr>\n",
       "    <tr>\n",
       "      <th>2</th>\n",
       "      <td>OWN</td>\n",
       "      <td>344.0</td>\n",
       "      <td>69.0</td>\n",
       "      <td>2137.0</td>\n",
       "      <td>2550.0</td>\n",
       "      <td>0.134902</td>\n",
       "    </tr>\n",
       "    <tr>\n",
       "      <th>3</th>\n",
       "      <td>RENT</td>\n",
       "      <td>2504.0</td>\n",
       "      <td>396.0</td>\n",
       "      <td>14481.0</td>\n",
       "      <td>17381.0</td>\n",
       "      <td>0.144065</td>\n",
       "    </tr>\n",
       "  </tbody>\n",
       "</table>\n",
       "</div>"
      ],
      "text/plain": [
       "loan_status home_ownership  Charged Off  Current  Fully Paid    Total  \\\n",
       "0                 MORTGAGE       2042.0    588.0     13411.0  16041.0   \n",
       "1                    OTHER         18.0      0.0        74.0     92.0   \n",
       "2                      OWN        344.0     69.0      2137.0   2550.0   \n",
       "3                     RENT       2504.0    396.0     14481.0  17381.0   \n",
       "\n",
       "loan_status  Chargedoff_Proportion  \n",
       "0                         0.127299  \n",
       "1                         0.195652  \n",
       "2                         0.134902  \n",
       "3                         0.144065  "
      ]
     },
     "execution_count": 310,
     "metadata": {},
     "output_type": "execute_result"
    },
    {
     "data": {
      "image/png": "[encoded data removed]",
      "text/plain": [
       "<Figure size 1008x432 with 1 Axes>"
      ]
     },
     "metadata": {
      "needs_background": "light"
     },
     "output_type": "display_data"
    }
   ],
   "source": [
    "Chargedoff_Proportion('home_ownership')\n",
    "#"
   ]
  },
  {
   "cell_type": "markdown",
   "metadata": {},
   "source": [
    "INCOME VS LOAN STATUS"
   ]
  },
  {
   "cell_type": "code",
   "execution_count": 311,
   "metadata": {},
   "outputs": [],
   "source": [
    "# CREATING BINS FOR ANNUAL INCOME COLUMN TO PLOT AGAINST LOAN STATUS.\n",
    "\n",
    "bins = [0, 20000, 40000, 60000, 80000, 100000, 120000, 140000, 160000, 180000, 200000, 220000, 240000]\n",
    "rng = ['0-20000', '20000-40000', '40000-60000', '60000-80000', '80000-100000', '100000-120000',\n",
    "       '120000-140000', '140000-160000', '160000-180000', '180000-200000', '200000-220000',\n",
    "       '220000-240000']\n",
    "df['annual_inc_range'] = pd.cut(df['annual_inc'], bins, labels = rng)\n"
   ]
  },
  {
   "cell_type": "code",
   "execution_count": 312,
   "metadata": {},
   "outputs": [
    {
     "name": "stdout",
     "output_type": "stream",
     "text": [
      "loan_status annual_inc_range  Charged Off  Current  Fully Paid  Total  \\\n",
      "0                    0-20000          162        5         716    883   \n",
      "1                20000-40000         1304      153        6305   7762   \n",
      "2                40000-60000         1555      316        8899  10770   \n",
      "3                60000-80000          918      231        6245   7394   \n",
      "4               80000-100000          474      165        3768   4407   \n",
      "5              100000-120000          224       79        1943   2246   \n",
      "6              120000-140000          124       38        1017   1179   \n",
      "7              140000-160000           77       34         565    676   \n",
      "8              160000-180000           32       21         318    371   \n",
      "9              180000-200000           24        9         203    236   \n",
      "10             200000-220000            9        2          93    104   \n",
      "11             220000-240000            5        0          31     36   \n",
      "\n",
      "loan_status  Chargedoff_Proportion  \n",
      "0                         0.183465  \n",
      "1                         0.167998  \n",
      "2                         0.144383  \n",
      "3                         0.124155  \n",
      "4                         0.107556  \n",
      "5                         0.099733  \n",
      "6                         0.105174  \n",
      "7                         0.113905  \n",
      "8                         0.086253  \n",
      "9                         0.101695  \n",
      "10                        0.086538  \n",
      "11                        0.138889  \n"
     ]
    },
    {
     "data": {
      "image/png": "[encoded data removed]",
      "text/plain": [
       "<Figure size 1008x432 with 1 Axes>"
      ]
     },
     "metadata": {
      "needs_background": "light"
     },
     "output_type": "display_data"
    }
   ],
   "source": [
    "data=df.groupby(['annual_inc_range', 'loan_status']).loan_status.count().unstack().reset_index()\n",
    "data['Total'] = data['Charged Off'] + data['Current'] + data['Fully Paid'] \n",
    "data['Chargedoff_Proportion'] = data['Charged Off']/data['Total']\n",
    "plt.figure(figsize=(14,6))\n",
    "sns.barplot(data=data,x='annual_inc_range',y='Chargedoff_Proportion')\n",
    "plt.xticks(rotation=90)\n",
    "print(data)\n",
    "\n",
    "# Observations:\n",
    "# Income range 100000+  has less chances of charged off.\n",
    "# Income range 0-20000 has high chances of charged off.\n",
    "# But there are some irregularities for 220000+ income group where charged-off  is higher."
   ]
  },
  {
   "cell_type": "code",
   "execution_count": 313,
   "metadata": {},
   "outputs": [
    {
     "data": {
      "text/plain": [
       "verification_status  annual_inc_range\n",
       "Not Verified         40000-60000         4957\n",
       "                     20000-40000         3920\n",
       "                     60000-80000         2937\n",
       "                     80000-100000        1508\n",
       "                     100000-120000        654\n",
       "                     0-20000              445\n",
       "                     120000-140000        302\n",
       "                     140000-160000        141\n",
       "                     160000-180000         56\n",
       "                     180000-200000         42\n",
       "                     200000-220000         11\n",
       "                     220000-240000          9\n",
       "Source Verified      40000-60000         2867\n",
       "                     20000-40000         2294\n",
       "                     60000-80000         1769\n",
       "                     80000-100000         992\n",
       "                     100000-120000        487\n",
       "                     0-20000              276\n",
       "                     120000-140000        269\n",
       "                     140000-160000        168\n",
       "                     160000-180000        101\n",
       "                     180000-200000         79\n",
       "                     200000-220000         31\n",
       "                     220000-240000          8\n",
       "Verified             40000-60000         2946\n",
       "                     60000-80000         2688\n",
       "                     80000-100000        1907\n",
       "                     20000-40000         1548\n",
       "                     100000-120000       1105\n",
       "                     120000-140000        608\n",
       "                     140000-160000        367\n",
       "                     160000-180000        214\n",
       "                     0-20000              162\n",
       "                     180000-200000        115\n",
       "                     200000-220000         62\n",
       "                     220000-240000         19\n",
       "Name: annual_inc_range, dtype: int64"
      ]
     },
     "execution_count": 313,
     "metadata": {},
     "output_type": "execute_result"
    },
    {
     "data": {
      "image/png": "[encoded data removed]",
      "text/plain": [
       "<Figure size 432x288 with 1 Axes>"
      ]
     },
     "metadata": {
      "needs_background": "light"
     },
     "output_type": "display_data"
    }
   ],
   "source": [
    "#annual income vs verification \n",
    "sns.boxplot(data=df,x='annual_inc',y='verification_status')\n",
    "df.groupby(by='verification_status').annual_inc_range.value_counts()\n",
    "\n",
    "#observation:\n",
    "#higher income people have verified loans "
   ]
  },
  {
   "cell_type": "code",
   "execution_count": 314,
   "metadata": {},
   "outputs": [
    {
     "data": {
      "text/plain": [
       "<matplotlib.axes._subplots.AxesSubplot at 0x22ebe3fd488>"
      ]
     },
     "execution_count": 314,
     "metadata": {},
     "output_type": "execute_result"
    },
    {
     "data": {
      "image/png": "[encoded data removed]",
      "text/plain": [
       "<Figure size 1296x576 with 1 Axes>"
      ]
     },
     "metadata": {
      "needs_background": "light"
     },
     "output_type": "display_data"
    }
   ],
   "source": [
    "plt.figure(figsize=(18,8))\n",
    "sns.boxplot(data=df,y='purpose',x='annual_inc')\n",
    "\n",
    "# higher income applicants take loans for renewable energy and home improvement."
   ]
  },
  {
   "cell_type": "markdown",
   "metadata": {},
   "source": [
    "GRADE:\n",
    "\n",
    "    1. grade vs charged off percentage \n",
    "    2. grade vs interest rate \n",
    "    3. grade vs loan amount \n",
    "    4. grade vs annual income \n",
    "    5. grade vs dti \n",
    "    6. grade vs verification status.\n",
    "    "
   ]
  },
  {
   "cell_type": "code",
   "execution_count": 315,
   "metadata": {},
   "outputs": [
    {
     "data": {
      "text/html": [
       "<div>\n",
       "<style scoped>\n",
       "    .dataframe tbody tr th:only-of-type {\n",
       "        vertical-align: middle;\n",
       "    }\n",
       "\n",
       "    .dataframe tbody tr th {\n",
       "        vertical-align: top;\n",
       "    }\n",
       "\n",
       "    .dataframe thead th {\n",
       "        text-align: right;\n",
       "    }\n",
       "</style>\n",
       "<table border=\"1\" class=\"dataframe\">\n",
       "  <thead>\n",
       "    <tr style=\"text-align: right;\">\n",
       "      <th>loan_status</th>\n",
       "      <th>grade</th>\n",
       "      <th>Charged Off</th>\n",
       "      <th>Current</th>\n",
       "      <th>Fully Paid</th>\n",
       "      <th>Total</th>\n",
       "      <th>Chargedoff_Proportion</th>\n",
       "    </tr>\n",
       "  </thead>\n",
       "  <tbody>\n",
       "    <tr>\n",
       "      <th>0</th>\n",
       "      <td>A</td>\n",
       "      <td>513</td>\n",
       "      <td>35</td>\n",
       "      <td>8568</td>\n",
       "      <td>9116</td>\n",
       "      <td>0.056275</td>\n",
       "    </tr>\n",
       "    <tr>\n",
       "      <th>1</th>\n",
       "      <td>B</td>\n",
       "      <td>1247</td>\n",
       "      <td>316</td>\n",
       "      <td>9385</td>\n",
       "      <td>10948</td>\n",
       "      <td>0.113902</td>\n",
       "    </tr>\n",
       "    <tr>\n",
       "      <th>2</th>\n",
       "      <td>C</td>\n",
       "      <td>1165</td>\n",
       "      <td>248</td>\n",
       "      <td>5940</td>\n",
       "      <td>7353</td>\n",
       "      <td>0.158439</td>\n",
       "    </tr>\n",
       "    <tr>\n",
       "      <th>3</th>\n",
       "      <td>D</td>\n",
       "      <td>975</td>\n",
       "      <td>206</td>\n",
       "      <td>3635</td>\n",
       "      <td>4816</td>\n",
       "      <td>0.202450</td>\n",
       "    </tr>\n",
       "    <tr>\n",
       "      <th>4</th>\n",
       "      <td>E</td>\n",
       "      <td>637</td>\n",
       "      <td>167</td>\n",
       "      <td>1792</td>\n",
       "      <td>2596</td>\n",
       "      <td>0.245378</td>\n",
       "    </tr>\n",
       "    <tr>\n",
       "      <th>5</th>\n",
       "      <td>F</td>\n",
       "      <td>280</td>\n",
       "      <td>65</td>\n",
       "      <td>602</td>\n",
       "      <td>947</td>\n",
       "      <td>0.295671</td>\n",
       "    </tr>\n",
       "    <tr>\n",
       "      <th>6</th>\n",
       "      <td>G</td>\n",
       "      <td>91</td>\n",
       "      <td>16</td>\n",
       "      <td>181</td>\n",
       "      <td>288</td>\n",
       "      <td>0.315972</td>\n",
       "    </tr>\n",
       "  </tbody>\n",
       "</table>\n",
       "</div>"
      ],
      "text/plain": [
       "loan_status grade  Charged Off  Current  Fully Paid  Total  \\\n",
       "0               A          513       35        8568   9116   \n",
       "1               B         1247      316        9385  10948   \n",
       "2               C         1165      248        5940   7353   \n",
       "3               D          975      206        3635   4816   \n",
       "4               E          637      167        1792   2596   \n",
       "5               F          280       65         602    947   \n",
       "6               G           91       16         181    288   \n",
       "\n",
       "loan_status  Chargedoff_Proportion  \n",
       "0                         0.056275  \n",
       "1                         0.113902  \n",
       "2                         0.158439  \n",
       "3                         0.202450  \n",
       "4                         0.245378  \n",
       "5                         0.295671  \n",
       "6                         0.315972  "
      ]
     },
     "execution_count": 315,
     "metadata": {},
     "output_type": "execute_result"
    },
    {
     "data": {
      "image/png": "[encoded data removed]",
      "text/plain": [
       "<Figure size 1008x432 with 1 Axes>"
      ]
     },
     "metadata": {
      "needs_background": "light"
     },
     "output_type": "display_data"
    }
   ],
   "source": [
    "Chargedoff_Proportion('grade')\n",
    "\n",
    "# Observations:\n",
    "# Charged of is increasing with grade moving from \"A\" towards \"G\"."
   ]
  },
  {
   "cell_type": "code",
   "execution_count": 316,
   "metadata": {},
   "outputs": [
    {
     "data": {
      "text/plain": [
       "<matplotlib.axes._subplots.AxesSubplot at 0x22ebf279048>"
      ]
     },
     "execution_count": 316,
     "metadata": {},
     "output_type": "execute_result"
    },
    {
     "data": {
      "image/png": "[encoded data removed]",
      "text/plain": [
       "<Figure size 1008x432 with 1 Axes>"
      ]
     },
     "metadata": {
      "needs_background": "light"
     },
     "output_type": "display_data"
    }
   ],
   "source": [
    "# grade vs interest rate \n",
    "plt.figure(figsize=(14,6))\n",
    "sns.boxplot(x='grade',y='int_rate',data=df,order = 'ABCDEFG')\n",
    "\n",
    "# Higher grades have higher interest rate ,maybe because they are given to people who are considered risky applicants."
   ]
  },
  {
   "cell_type": "code",
   "execution_count": 317,
   "metadata": {},
   "outputs": [
    {
     "data": {
      "text/plain": [
       "<matplotlib.axes._subplots.AxesSubplot at 0x22ebeb2e248>"
      ]
     },
     "execution_count": 317,
     "metadata": {},
     "output_type": "execute_result"
    },
    {
     "data": {
      "image/png": "[encoded data removed]",
      "text/plain": [
       "<Figure size 1008x432 with 1 Axes>"
      ]
     },
     "metadata": {
      "needs_background": "light"
     },
     "output_type": "display_data"
    }
   ],
   "source": [
    "#grade vs loan amount\n",
    "plt.figure(figsize=(14,6))\n",
    "sns.boxplot(x='grade',y='loan_amnt',data=df,order = 'ABCDEFG')\n",
    "\n",
    "# loan given at E ,F, G are higher , and therefore have higher interest rate as we saw above."
   ]
  },
  {
   "cell_type": "code",
   "execution_count": 318,
   "metadata": {},
   "outputs": [
    {
     "data": {
      "text/plain": [
       "<matplotlib.axes._subplots.AxesSubplot at 0x22ebe3efa08>"
      ]
     },
     "execution_count": 318,
     "metadata": {},
     "output_type": "execute_result"
    },
    {
     "data": {
      "image/png": "[encoded data removed]",
      "text/plain": [
       "<Figure size 1008x432 with 1 Axes>"
      ]
     },
     "metadata": {
      "needs_background": "light"
     },
     "output_type": "display_data"
    }
   ],
   "source": [
    "#grade vs annual_income\n",
    "plt.figure(figsize=(14,6))\n",
    "sns.boxplot(data=df,x='grade',y='annual_inc',order = 'ABCDEFG')\n",
    "\n",
    "#higher income people have loans for high grades."
   ]
  },
  {
   "cell_type": "code",
   "execution_count": 319,
   "metadata": {},
   "outputs": [
    {
     "data": {
      "text/plain": [
       "<matplotlib.axes._subplots.AxesSubplot at 0x22ebd9178c8>"
      ]
     },
     "execution_count": 319,
     "metadata": {},
     "output_type": "execute_result"
    },
    {
     "data": {
      "image/png": "[encoded data removed]",
      "text/plain": [
       "<Figure size 1008x432 with 1 Axes>"
      ]
     },
     "metadata": {
      "needs_background": "light"
     },
     "output_type": "display_data"
    }
   ],
   "source": [
    "plt.figure(figsize=(14,6))\n",
    "sns.boxplot(x='grade',y='dti',data=df,order = 'ABCDEFG')\n",
    "\n",
    "# there's not much difference among grades in relation to debt to income ratio."
   ]
  },
  {
   "cell_type": "markdown",
   "metadata": {},
   "source": [
    "INTEREST RATE:\n",
    "\n",
    "    1. IR vs charged off percentage \n",
    "    2. IR vs purpose\n",
    "    3. year vs IR \n",
    "    4. dti vs IR \n",
    "    5. term vs IR \n",
    "    6. emp_length vs IR \n",
    "    7. IR  vs loan amoumt "
   ]
  },
  {
   "cell_type": "code",
   "execution_count": 320,
   "metadata": {},
   "outputs": [],
   "source": [
    "# creating bins for interest rate column.\n",
    "bins = [0, 5, 10, 15, 20, 25,30]\n",
    "rng = ['0-5', '5-10', '10-15', '15-20', '20-25','25-30']\n",
    "df['int_rate_range'] = pd.cut(df['int_rate'], bins, labels = rng)"
   ]
  },
  {
   "cell_type": "code",
   "execution_count": 321,
   "metadata": {},
   "outputs": [
    {
     "name": "stdout",
     "output_type": "stream",
     "text": [
      "loan_status int_rate_range  Charged Off  Current  Fully Paid  Total  \\\n",
      "0                      0-5            0        0           0      0   \n",
      "1                     5-10          682       69       10344  11095   \n",
      "2                    10-15         2345      488       14266  17099   \n",
      "3                    15-20         1615      403        5057   7075   \n",
      "4                    20-25          266       93         436    795   \n",
      "5                    25-30            0        0           0      0   \n",
      "\n",
      "loan_status  Chargedoff_Proportion  \n",
      "0                              NaN  \n",
      "1                         0.061469  \n",
      "2                         0.137143  \n",
      "3                         0.228269  \n",
      "4                         0.334591  \n",
      "5                              NaN  \n"
     ]
    },
    {
     "data": {
      "image/png": "[encoded data removed]",
      "text/plain": [
       "<Figure size 1008x432 with 1 Axes>"
      ]
     },
     "metadata": {
      "needs_background": "light"
     },
     "output_type": "display_data"
    }
   ],
   "source": [
    "data=df.groupby(['int_rate_range', 'loan_status']).loan_status.count().unstack().reset_index()\n",
    "data['Total'] = data['Charged Off'] + data['Current'] + data['Fully Paid'] \n",
    "data['Chargedoff_Proportion'] = data['Charged Off']/data['Total']\n",
    "plt.figure(figsize=(14,6))\n",
    "sns.barplot(data=data,x='int_rate_range',y='Chargedoff_Proportion')\n",
    "plt.xticks(rotation=90)\n",
    "print(data)\n",
    "\n",
    "# higher interest rate have higher charged off %."
   ]
  },
  {
   "cell_type": "code",
   "execution_count": 322,
   "metadata": {},
   "outputs": [
    {
     "data": {
      "text/plain": [
       "<matplotlib.axes._subplots.AxesSubplot at 0x22ebeb15608>"
      ]
     },
     "execution_count": 322,
     "metadata": {},
     "output_type": "execute_result"
    },
    {
     "data": {
      "image/png": "[encoded data removed]",
      "text/plain": [
       "<Figure size 1008x432 with 1 Axes>"
      ]
     },
     "metadata": {
      "needs_background": "light"
     },
     "output_type": "display_data"
    }
   ],
   "source": [
    "plt.figure(figsize=(14,6))\n",
    "sns.boxplot(data=df,x='int_rate',y='purpose')   \n",
    "\n",
    "# house , small business , debt consolidation have higher interest rates."
   ]
  },
  {
   "cell_type": "code",
   "execution_count": 323,
   "metadata": {},
   "outputs": [
    {
     "data": {
      "text/plain": [
       "<matplotlib.axes._subplots.AxesSubplot at 0x22eb4792a88>"
      ]
     },
     "execution_count": 323,
     "metadata": {},
     "output_type": "execute_result"
    },
    {
     "data": {
      "image/png": "[encoded data removed]",
      "text/plain": [
       "<Figure size 1008x432 with 1 Axes>"
      ]
     },
     "metadata": {
      "needs_background": "light"
     },
     "output_type": "display_data"
    }
   ],
   "source": [
    "plt.figure(figsize=(14,6))\n",
    "sns.boxplot(data=df,x='year',y='int_rate')\n",
    "\n",
    "# Plot shows intrest rate is increasing slowly with increase in year."
   ]
  },
  {
   "cell_type": "code",
   "execution_count": null,
   "metadata": {},
   "outputs": [],
   "source": []
  },
  {
   "cell_type": "code",
   "execution_count": 324,
   "metadata": {},
   "outputs": [
    {
     "data": {
      "text/plain": [
       "<matplotlib.axes._subplots.AxesSubplot at 0x22eb4698b88>"
      ]
     },
     "execution_count": 324,
     "metadata": {},
     "output_type": "execute_result"
    },
    {
     "data": {
      "image/png": "[encoded data removed]",
      "text/plain": [
       "<Figure size 1008x432 with 1 Axes>"
      ]
     },
     "metadata": {
      "needs_background": "light"
     },
     "output_type": "display_data"
    }
   ],
   "source": [
    "plt.figure(figsize=(14,6))\n",
    "sns.boxplot(data=df,y='dti',x='int_rate_range')\n",
    "#there is slight increase in interest rate with increase in DTI"
   ]
  },
  {
   "cell_type": "code",
   "execution_count": 325,
   "metadata": {},
   "outputs": [
    {
     "data": {
      "text/plain": [
       "<matplotlib.axes._subplots.AxesSubplot at 0x22eb76437c8>"
      ]
     },
     "execution_count": 325,
     "metadata": {},
     "output_type": "execute_result"
    },
    {
     "data": {
      "image/png": "[encoded data removed]",
      "text/plain": [
       "<Figure size 1008x432 with 1 Axes>"
      ]
     },
     "metadata": {
      "needs_background": "light"
     },
     "output_type": "display_data"
    }
   ],
   "source": [
    "plt.figure(figsize=(14,6))\n",
    "sns.boxplot(data=df,x='term',y='int_rate')\n",
    "\n",
    "#avearge intrest rate is higher for 60 months loan term.\n",
    "# Most of the loans issued for longer term had higher intrest rates for repayement."
   ]
  },
  {
   "cell_type": "code",
   "execution_count": 333,
   "metadata": {
    "scrolled": true
   },
   "outputs": [
    {
     "data": {
      "text/plain": [
       "<matplotlib.axes._subplots.AxesSubplot at 0x22eb3010508>"
      ]
     },
     "execution_count": 333,
     "metadata": {},
     "output_type": "execute_result"
    },
    {
     "data": {
      "image/png": "[encoded data removed]",
      "text/plain": [
       "<Figure size 864x288 with 1 Axes>"
      ]
     },
     "metadata": {
      "needs_background": "light"
     },
     "output_type": "display_data"
    }
   ],
   "source": [
    "plt.figure(figsize=(12,4))\n",
    "sns.boxplot(data=df,x='loan_amt_range',y='int_rate')\n",
    "\n",
    "# bigger loans have higher intrest rates."
   ]
  },
  {
   "cell_type": "code",
   "execution_count": 328,
   "metadata": {},
   "outputs": [
    {
     "data": {
      "text/plain": [
       "<matplotlib.axes._subplots.AxesSubplot at 0x22eb2c6bf88>"
      ]
     },
     "execution_count": 328,
     "metadata": {},
     "output_type": "execute_result"
    },
    {
     "data": {
      "image/png": "[encoded data removed]",
      "text/plain": [
       "<Figure size 1008x432 with 1 Axes>"
      ]
     },
     "metadata": {
      "needs_background": "light"
     },
     "output_type": "display_data"
    }
   ],
   "source": [
    "plt.figure(figsize=(14,6))\n",
    "sns.boxplot(data=df,x='emp_length',y='int_rate')"
   ]
  },
  {
   "cell_type": "markdown",
   "metadata": {},
   "source": [
    "Employee length"
   ]
  },
  {
   "cell_type": "code",
   "execution_count": 329,
   "metadata": {},
   "outputs": [
    {
     "data": {
      "text/html": [
       "<div>\n",
       "<style scoped>\n",
       "    .dataframe tbody tr th:only-of-type {\n",
       "        vertical-align: middle;\n",
       "    }\n",
       "\n",
       "    .dataframe tbody tr th {\n",
       "        vertical-align: top;\n",
       "    }\n",
       "\n",
       "    .dataframe thead th {\n",
       "        text-align: right;\n",
       "    }\n",
       "</style>\n",
       "<table border=\"1\" class=\"dataframe\">\n",
       "  <thead>\n",
       "    <tr style=\"text-align: right;\">\n",
       "      <th>loan_status</th>\n",
       "      <th>emp_length</th>\n",
       "      <th>Charged Off</th>\n",
       "      <th>Current</th>\n",
       "      <th>Fully Paid</th>\n",
       "      <th>Total</th>\n",
       "      <th>Chargedoff_Proportion</th>\n",
       "    </tr>\n",
       "  </thead>\n",
       "  <tbody>\n",
       "    <tr>\n",
       "      <th>0</th>\n",
       "      <td>1</td>\n",
       "      <td>407</td>\n",
       "      <td>65</td>\n",
       "      <td>2526</td>\n",
       "      <td>2998</td>\n",
       "      <td>0.135757</td>\n",
       "    </tr>\n",
       "    <tr>\n",
       "      <th>1</th>\n",
       "      <td>10+</td>\n",
       "      <td>1221</td>\n",
       "      <td>375</td>\n",
       "      <td>6685</td>\n",
       "      <td>8281</td>\n",
       "      <td>0.147446</td>\n",
       "    </tr>\n",
       "    <tr>\n",
       "      <th>2</th>\n",
       "      <td>2</td>\n",
       "      <td>525</td>\n",
       "      <td>95</td>\n",
       "      <td>3516</td>\n",
       "      <td>4136</td>\n",
       "      <td>0.126934</td>\n",
       "    </tr>\n",
       "    <tr>\n",
       "      <th>3</th>\n",
       "      <td>3</td>\n",
       "      <td>517</td>\n",
       "      <td>80</td>\n",
       "      <td>3282</td>\n",
       "      <td>3879</td>\n",
       "      <td>0.133282</td>\n",
       "    </tr>\n",
       "    <tr>\n",
       "      <th>4</th>\n",
       "      <td>4</td>\n",
       "      <td>421</td>\n",
       "      <td>91</td>\n",
       "      <td>2760</td>\n",
       "      <td>3272</td>\n",
       "      <td>0.128667</td>\n",
       "    </tr>\n",
       "    <tr>\n",
       "      <th>5</th>\n",
       "      <td>5</td>\n",
       "      <td>420</td>\n",
       "      <td>85</td>\n",
       "      <td>2598</td>\n",
       "      <td>3103</td>\n",
       "      <td>0.135353</td>\n",
       "    </tr>\n",
       "    <tr>\n",
       "      <th>6</th>\n",
       "      <td>6</td>\n",
       "      <td>285</td>\n",
       "      <td>56</td>\n",
       "      <td>1759</td>\n",
       "      <td>2100</td>\n",
       "      <td>0.135714</td>\n",
       "    </tr>\n",
       "    <tr>\n",
       "      <th>7</th>\n",
       "      <td>7</td>\n",
       "      <td>247</td>\n",
       "      <td>59</td>\n",
       "      <td>1377</td>\n",
       "      <td>1683</td>\n",
       "      <td>0.146762</td>\n",
       "    </tr>\n",
       "    <tr>\n",
       "      <th>8</th>\n",
       "      <td>8</td>\n",
       "      <td>191</td>\n",
       "      <td>43</td>\n",
       "      <td>1156</td>\n",
       "      <td>1390</td>\n",
       "      <td>0.137410</td>\n",
       "    </tr>\n",
       "    <tr>\n",
       "      <th>9</th>\n",
       "      <td>9</td>\n",
       "      <td>146</td>\n",
       "      <td>31</td>\n",
       "      <td>1021</td>\n",
       "      <td>1198</td>\n",
       "      <td>0.121870</td>\n",
       "    </tr>\n",
       "    <tr>\n",
       "      <th>10</th>\n",
       "      <td>&lt; 1</td>\n",
       "      <td>528</td>\n",
       "      <td>73</td>\n",
       "      <td>3423</td>\n",
       "      <td>4024</td>\n",
       "      <td>0.131213</td>\n",
       "    </tr>\n",
       "  </tbody>\n",
       "</table>\n",
       "</div>"
      ],
      "text/plain": [
       "loan_status emp_length  Charged Off  Current  Fully Paid  Total  \\\n",
       "0                   1           407       65        2526   2998   \n",
       "1                 10+          1221      375        6685   8281   \n",
       "2                   2           525       95        3516   4136   \n",
       "3                   3           517       80        3282   3879   \n",
       "4                   4           421       91        2760   3272   \n",
       "5                   5           420       85        2598   3103   \n",
       "6                   6           285       56        1759   2100   \n",
       "7                   7           247       59        1377   1683   \n",
       "8                   8           191       43        1156   1390   \n",
       "9                   9           146       31        1021   1198   \n",
       "10                < 1           528       73        3423   4024   \n",
       "\n",
       "loan_status  Chargedoff_Proportion  \n",
       "0                         0.135757  \n",
       "1                         0.147446  \n",
       "2                         0.126934  \n",
       "3                         0.133282  \n",
       "4                         0.128667  \n",
       "5                         0.135353  \n",
       "6                         0.135714  \n",
       "7                         0.146762  \n",
       "8                         0.137410  \n",
       "9                         0.121870  \n",
       "10                        0.131213  "
      ]
     },
     "execution_count": 329,
     "metadata": {},
     "output_type": "execute_result"
    },
    {
     "data": {
      "image/png": "[encoded data removed]",
      "text/plain": [
       "<Figure size 1008x432 with 1 Axes>"
      ]
     },
     "metadata": {
      "needs_background": "light"
     },
     "output_type": "display_data"
    }
   ],
   "source": [
    "Chargedoff_Proportion('emp_length')\n",
    "\n",
    "# there are no patters in this column."
   ]
  },
  {
   "cell_type": "markdown",
   "metadata": {},
   "source": [
    "STATES"
   ]
  },
  {
   "cell_type": "code",
   "execution_count": 330,
   "metadata": {},
   "outputs": [
    {
     "data": {
      "text/html": [
       "<div>\n",
       "<style scoped>\n",
       "    .dataframe tbody tr th:only-of-type {\n",
       "        vertical-align: middle;\n",
       "    }\n",
       "\n",
       "    .dataframe tbody tr th {\n",
       "        vertical-align: top;\n",
       "    }\n",
       "\n",
       "    .dataframe thead th {\n",
       "        text-align: right;\n",
       "    }\n",
       "</style>\n",
       "<table border=\"1\" class=\"dataframe\">\n",
       "  <thead>\n",
       "    <tr style=\"text-align: right;\">\n",
       "      <th>loan_status</th>\n",
       "      <th>addr_state</th>\n",
       "      <th>Charged Off</th>\n",
       "      <th>Current</th>\n",
       "      <th>Fully Paid</th>\n",
       "      <th>Total</th>\n",
       "      <th>Chargedoff_Proportion</th>\n",
       "    </tr>\n",
       "  </thead>\n",
       "  <tbody>\n",
       "    <tr>\n",
       "      <th>0</th>\n",
       "      <td>AK</td>\n",
       "      <td>14.0</td>\n",
       "      <td>2.0</td>\n",
       "      <td>58.0</td>\n",
       "      <td>74.0</td>\n",
       "      <td>0.189189</td>\n",
       "    </tr>\n",
       "    <tr>\n",
       "      <th>1</th>\n",
       "      <td>AL</td>\n",
       "      <td>47.0</td>\n",
       "      <td>16.0</td>\n",
       "      <td>348.0</td>\n",
       "      <td>411.0</td>\n",
       "      <td>0.114355</td>\n",
       "    </tr>\n",
       "    <tr>\n",
       "      <th>2</th>\n",
       "      <td>AR</td>\n",
       "      <td>25.0</td>\n",
       "      <td>9.0</td>\n",
       "      <td>191.0</td>\n",
       "      <td>225.0</td>\n",
       "      <td>0.111111</td>\n",
       "    </tr>\n",
       "    <tr>\n",
       "      <th>3</th>\n",
       "      <td>AZ</td>\n",
       "      <td>105.0</td>\n",
       "      <td>25.0</td>\n",
       "      <td>645.0</td>\n",
       "      <td>775.0</td>\n",
       "      <td>0.135484</td>\n",
       "    </tr>\n",
       "    <tr>\n",
       "      <th>4</th>\n",
       "      <td>CA</td>\n",
       "      <td>966.0</td>\n",
       "      <td>139.0</td>\n",
       "      <td>5365.0</td>\n",
       "      <td>6470.0</td>\n",
       "      <td>0.149304</td>\n",
       "    </tr>\n",
       "    <tr>\n",
       "      <th>5</th>\n",
       "      <td>CO</td>\n",
       "      <td>79.0</td>\n",
       "      <td>25.0</td>\n",
       "      <td>592.0</td>\n",
       "      <td>696.0</td>\n",
       "      <td>0.113506</td>\n",
       "    </tr>\n",
       "    <tr>\n",
       "      <th>6</th>\n",
       "      <td>CT</td>\n",
       "      <td>78.0</td>\n",
       "      <td>23.0</td>\n",
       "      <td>561.0</td>\n",
       "      <td>662.0</td>\n",
       "      <td>0.117825</td>\n",
       "    </tr>\n",
       "    <tr>\n",
       "      <th>7</th>\n",
       "      <td>DC</td>\n",
       "      <td>14.0</td>\n",
       "      <td>3.0</td>\n",
       "      <td>189.0</td>\n",
       "      <td>206.0</td>\n",
       "      <td>0.067961</td>\n",
       "    </tr>\n",
       "    <tr>\n",
       "      <th>8</th>\n",
       "      <td>DE</td>\n",
       "      <td>11.0</td>\n",
       "      <td>1.0</td>\n",
       "      <td>94.0</td>\n",
       "      <td>106.0</td>\n",
       "      <td>0.103774</td>\n",
       "    </tr>\n",
       "    <tr>\n",
       "      <th>9</th>\n",
       "      <td>FL</td>\n",
       "      <td>433.0</td>\n",
       "      <td>81.0</td>\n",
       "      <td>2076.0</td>\n",
       "      <td>2590.0</td>\n",
       "      <td>0.167181</td>\n",
       "    </tr>\n",
       "    <tr>\n",
       "      <th>10</th>\n",
       "      <td>GA</td>\n",
       "      <td>194.0</td>\n",
       "      <td>37.0</td>\n",
       "      <td>1048.0</td>\n",
       "      <td>1279.0</td>\n",
       "      <td>0.151681</td>\n",
       "    </tr>\n",
       "    <tr>\n",
       "      <th>11</th>\n",
       "      <td>HI</td>\n",
       "      <td>26.0</td>\n",
       "      <td>8.0</td>\n",
       "      <td>127.0</td>\n",
       "      <td>161.0</td>\n",
       "      <td>0.161491</td>\n",
       "    </tr>\n",
       "    <tr>\n",
       "      <th>12</th>\n",
       "      <td>IA</td>\n",
       "      <td>0.0</td>\n",
       "      <td>0.0</td>\n",
       "      <td>1.0</td>\n",
       "      <td>1.0</td>\n",
       "      <td>0.000000</td>\n",
       "    </tr>\n",
       "    <tr>\n",
       "      <th>13</th>\n",
       "      <td>ID</td>\n",
       "      <td>0.0</td>\n",
       "      <td>0.0</td>\n",
       "      <td>3.0</td>\n",
       "      <td>3.0</td>\n",
       "      <td>0.000000</td>\n",
       "    </tr>\n",
       "    <tr>\n",
       "      <th>14</th>\n",
       "      <td>IL</td>\n",
       "      <td>187.0</td>\n",
       "      <td>45.0</td>\n",
       "      <td>1176.0</td>\n",
       "      <td>1408.0</td>\n",
       "      <td>0.132812</td>\n",
       "    </tr>\n",
       "    <tr>\n",
       "      <th>15</th>\n",
       "      <td>IN</td>\n",
       "      <td>0.0</td>\n",
       "      <td>0.0</td>\n",
       "      <td>1.0</td>\n",
       "      <td>1.0</td>\n",
       "      <td>0.000000</td>\n",
       "    </tr>\n",
       "    <tr>\n",
       "      <th>16</th>\n",
       "      <td>KS</td>\n",
       "      <td>24.0</td>\n",
       "      <td>16.0</td>\n",
       "      <td>208.0</td>\n",
       "      <td>248.0</td>\n",
       "      <td>0.096774</td>\n",
       "    </tr>\n",
       "    <tr>\n",
       "      <th>17</th>\n",
       "      <td>KY</td>\n",
       "      <td>43.0</td>\n",
       "      <td>12.0</td>\n",
       "      <td>250.0</td>\n",
       "      <td>305.0</td>\n",
       "      <td>0.140984</td>\n",
       "    </tr>\n",
       "    <tr>\n",
       "      <th>18</th>\n",
       "      <td>LA</td>\n",
       "      <td>45.0</td>\n",
       "      <td>9.0</td>\n",
       "      <td>337.0</td>\n",
       "      <td>391.0</td>\n",
       "      <td>0.115090</td>\n",
       "    </tr>\n",
       "    <tr>\n",
       "      <th>19</th>\n",
       "      <td>MA</td>\n",
       "      <td>137.0</td>\n",
       "      <td>40.0</td>\n",
       "      <td>1028.0</td>\n",
       "      <td>1205.0</td>\n",
       "      <td>0.113693</td>\n",
       "    </tr>\n",
       "    <tr>\n",
       "      <th>20</th>\n",
       "      <td>MD</td>\n",
       "      <td>139.0</td>\n",
       "      <td>24.0</td>\n",
       "      <td>798.0</td>\n",
       "      <td>961.0</td>\n",
       "      <td>0.144641</td>\n",
       "    </tr>\n",
       "    <tr>\n",
       "      <th>21</th>\n",
       "      <td>MI</td>\n",
       "      <td>88.0</td>\n",
       "      <td>15.0</td>\n",
       "      <td>548.0</td>\n",
       "      <td>651.0</td>\n",
       "      <td>0.135177</td>\n",
       "    </tr>\n",
       "    <tr>\n",
       "      <th>22</th>\n",
       "      <td>MN</td>\n",
       "      <td>72.0</td>\n",
       "      <td>9.0</td>\n",
       "      <td>481.0</td>\n",
       "      <td>562.0</td>\n",
       "      <td>0.128114</td>\n",
       "    </tr>\n",
       "    <tr>\n",
       "      <th>23</th>\n",
       "      <td>MO</td>\n",
       "      <td>95.0</td>\n",
       "      <td>15.0</td>\n",
       "      <td>510.0</td>\n",
       "      <td>620.0</td>\n",
       "      <td>0.153226</td>\n",
       "    </tr>\n",
       "    <tr>\n",
       "      <th>24</th>\n",
       "      <td>MS</td>\n",
       "      <td>1.0</td>\n",
       "      <td>0.0</td>\n",
       "      <td>17.0</td>\n",
       "      <td>18.0</td>\n",
       "      <td>0.055556</td>\n",
       "    </tr>\n",
       "    <tr>\n",
       "      <th>25</th>\n",
       "      <td>MT</td>\n",
       "      <td>9.0</td>\n",
       "      <td>2.0</td>\n",
       "      <td>62.0</td>\n",
       "      <td>73.0</td>\n",
       "      <td>0.123288</td>\n",
       "    </tr>\n",
       "    <tr>\n",
       "      <th>26</th>\n",
       "      <td>NC</td>\n",
       "      <td>98.0</td>\n",
       "      <td>32.0</td>\n",
       "      <td>569.0</td>\n",
       "      <td>699.0</td>\n",
       "      <td>0.140200</td>\n",
       "    </tr>\n",
       "    <tr>\n",
       "      <th>27</th>\n",
       "      <td>NE</td>\n",
       "      <td>0.0</td>\n",
       "      <td>0.0</td>\n",
       "      <td>1.0</td>\n",
       "      <td>1.0</td>\n",
       "      <td>0.000000</td>\n",
       "    </tr>\n",
       "    <tr>\n",
       "      <th>28</th>\n",
       "      <td>NH</td>\n",
       "      <td>22.0</td>\n",
       "      <td>3.0</td>\n",
       "      <td>124.0</td>\n",
       "      <td>149.0</td>\n",
       "      <td>0.147651</td>\n",
       "    </tr>\n",
       "    <tr>\n",
       "      <th>29</th>\n",
       "      <td>NJ</td>\n",
       "      <td>255.0</td>\n",
       "      <td>55.0</td>\n",
       "      <td>1387.0</td>\n",
       "      <td>1697.0</td>\n",
       "      <td>0.150265</td>\n",
       "    </tr>\n",
       "    <tr>\n",
       "      <th>30</th>\n",
       "      <td>NM</td>\n",
       "      <td>28.0</td>\n",
       "      <td>3.0</td>\n",
       "      <td>131.0</td>\n",
       "      <td>162.0</td>\n",
       "      <td>0.172840</td>\n",
       "    </tr>\n",
       "    <tr>\n",
       "      <th>31</th>\n",
       "      <td>NV</td>\n",
       "      <td>96.0</td>\n",
       "      <td>17.0</td>\n",
       "      <td>343.0</td>\n",
       "      <td>456.0</td>\n",
       "      <td>0.210526</td>\n",
       "    </tr>\n",
       "    <tr>\n",
       "      <th>32</th>\n",
       "      <td>NY</td>\n",
       "      <td>434.0</td>\n",
       "      <td>105.0</td>\n",
       "      <td>2909.0</td>\n",
       "      <td>3448.0</td>\n",
       "      <td>0.125870</td>\n",
       "    </tr>\n",
       "    <tr>\n",
       "      <th>33</th>\n",
       "      <td>OH</td>\n",
       "      <td>136.0</td>\n",
       "      <td>41.0</td>\n",
       "      <td>954.0</td>\n",
       "      <td>1131.0</td>\n",
       "      <td>0.120248</td>\n",
       "    </tr>\n",
       "    <tr>\n",
       "      <th>34</th>\n",
       "      <td>OK</td>\n",
       "      <td>37.0</td>\n",
       "      <td>11.0</td>\n",
       "      <td>234.0</td>\n",
       "      <td>282.0</td>\n",
       "      <td>0.131206</td>\n",
       "    </tr>\n",
       "    <tr>\n",
       "      <th>35</th>\n",
       "      <td>OR</td>\n",
       "      <td>63.0</td>\n",
       "      <td>15.0</td>\n",
       "      <td>334.0</td>\n",
       "      <td>412.0</td>\n",
       "      <td>0.152913</td>\n",
       "    </tr>\n",
       "    <tr>\n",
       "      <th>36</th>\n",
       "      <td>PA</td>\n",
       "      <td>158.0</td>\n",
       "      <td>44.0</td>\n",
       "      <td>1207.0</td>\n",
       "      <td>1409.0</td>\n",
       "      <td>0.112136</td>\n",
       "    </tr>\n",
       "    <tr>\n",
       "      <th>37</th>\n",
       "      <td>RI</td>\n",
       "      <td>25.0</td>\n",
       "      <td>4.0</td>\n",
       "      <td>156.0</td>\n",
       "      <td>185.0</td>\n",
       "      <td>0.135135</td>\n",
       "    </tr>\n",
       "    <tr>\n",
       "      <th>38</th>\n",
       "      <td>SC</td>\n",
       "      <td>60.0</td>\n",
       "      <td>13.0</td>\n",
       "      <td>359.0</td>\n",
       "      <td>432.0</td>\n",
       "      <td>0.138889</td>\n",
       "    </tr>\n",
       "    <tr>\n",
       "      <th>39</th>\n",
       "      <td>SD</td>\n",
       "      <td>10.0</td>\n",
       "      <td>2.0</td>\n",
       "      <td>45.0</td>\n",
       "      <td>57.0</td>\n",
       "      <td>0.175439</td>\n",
       "    </tr>\n",
       "    <tr>\n",
       "      <th>40</th>\n",
       "      <td>TN</td>\n",
       "      <td>2.0</td>\n",
       "      <td>0.0</td>\n",
       "      <td>8.0</td>\n",
       "      <td>10.0</td>\n",
       "      <td>0.200000</td>\n",
       "    </tr>\n",
       "    <tr>\n",
       "      <th>41</th>\n",
       "      <td>TX</td>\n",
       "      <td>270.0</td>\n",
       "      <td>62.0</td>\n",
       "      <td>2155.0</td>\n",
       "      <td>2487.0</td>\n",
       "      <td>0.108565</td>\n",
       "    </tr>\n",
       "    <tr>\n",
       "      <th>42</th>\n",
       "      <td>UT</td>\n",
       "      <td>33.0</td>\n",
       "      <td>5.0</td>\n",
       "      <td>195.0</td>\n",
       "      <td>233.0</td>\n",
       "      <td>0.141631</td>\n",
       "    </tr>\n",
       "    <tr>\n",
       "      <th>43</th>\n",
       "      <td>VA</td>\n",
       "      <td>161.0</td>\n",
       "      <td>37.0</td>\n",
       "      <td>1088.0</td>\n",
       "      <td>1286.0</td>\n",
       "      <td>0.125194</td>\n",
       "    </tr>\n",
       "    <tr>\n",
       "      <th>44</th>\n",
       "      <td>VT</td>\n",
       "      <td>6.0</td>\n",
       "      <td>1.0</td>\n",
       "      <td>41.0</td>\n",
       "      <td>48.0</td>\n",
       "      <td>0.125000</td>\n",
       "    </tr>\n",
       "    <tr>\n",
       "      <th>45</th>\n",
       "      <td>WA</td>\n",
       "      <td>110.0</td>\n",
       "      <td>21.0</td>\n",
       "      <td>603.0</td>\n",
       "      <td>734.0</td>\n",
       "      <td>0.149864</td>\n",
       "    </tr>\n",
       "    <tr>\n",
       "      <th>46</th>\n",
       "      <td>WI</td>\n",
       "      <td>49.0</td>\n",
       "      <td>19.0</td>\n",
       "      <td>337.0</td>\n",
       "      <td>405.0</td>\n",
       "      <td>0.120988</td>\n",
       "    </tr>\n",
       "    <tr>\n",
       "      <th>47</th>\n",
       "      <td>WV</td>\n",
       "      <td>20.0</td>\n",
       "      <td>4.0</td>\n",
       "      <td>137.0</td>\n",
       "      <td>161.0</td>\n",
       "      <td>0.124224</td>\n",
       "    </tr>\n",
       "    <tr>\n",
       "      <th>48</th>\n",
       "      <td>WY</td>\n",
       "      <td>3.0</td>\n",
       "      <td>3.0</td>\n",
       "      <td>72.0</td>\n",
       "      <td>78.0</td>\n",
       "      <td>0.038462</td>\n",
       "    </tr>\n",
       "  </tbody>\n",
       "</table>\n",
       "</div>"
      ],
      "text/plain": [
       "loan_status addr_state  Charged Off  Current  Fully Paid   Total  \\\n",
       "0                   AK         14.0      2.0        58.0    74.0   \n",
       "1                   AL         47.0     16.0       348.0   411.0   \n",
       "2                   AR         25.0      9.0       191.0   225.0   \n",
       "3                   AZ        105.0     25.0       645.0   775.0   \n",
       "4                   CA        966.0    139.0      5365.0  6470.0   \n",
       "5                   CO         79.0     25.0       592.0   696.0   \n",
       "6                   CT         78.0     23.0       561.0   662.0   \n",
       "7                   DC         14.0      3.0       189.0   206.0   \n",
       "8                   DE         11.0      1.0        94.0   106.0   \n",
       "9                   FL        433.0     81.0      2076.0  2590.0   \n",
       "10                  GA        194.0     37.0      1048.0  1279.0   \n",
       "11                  HI         26.0      8.0       127.0   161.0   \n",
       "12                  IA          0.0      0.0         1.0     1.0   \n",
       "13                  ID          0.0      0.0         3.0     3.0   \n",
       "14                  IL        187.0     45.0      1176.0  1408.0   \n",
       "15                  IN          0.0      0.0         1.0     1.0   \n",
       "16                  KS         24.0     16.0       208.0   248.0   \n",
       "17                  KY         43.0     12.0       250.0   305.0   \n",
       "18                  LA         45.0      9.0       337.0   391.0   \n",
       "19                  MA        137.0     40.0      1028.0  1205.0   \n",
       "20                  MD        139.0     24.0       798.0   961.0   \n",
       "21                  MI         88.0     15.0       548.0   651.0   \n",
       "22                  MN         72.0      9.0       481.0   562.0   \n",
       "23                  MO         95.0     15.0       510.0   620.0   \n",
       "24                  MS          1.0      0.0        17.0    18.0   \n",
       "25                  MT          9.0      2.0        62.0    73.0   \n",
       "26                  NC         98.0     32.0       569.0   699.0   \n",
       "27                  NE          0.0      0.0         1.0     1.0   \n",
       "28                  NH         22.0      3.0       124.0   149.0   \n",
       "29                  NJ        255.0     55.0      1387.0  1697.0   \n",
       "30                  NM         28.0      3.0       131.0   162.0   \n",
       "31                  NV         96.0     17.0       343.0   456.0   \n",
       "32                  NY        434.0    105.0      2909.0  3448.0   \n",
       "33                  OH        136.0     41.0       954.0  1131.0   \n",
       "34                  OK         37.0     11.0       234.0   282.0   \n",
       "35                  OR         63.0     15.0       334.0   412.0   \n",
       "36                  PA        158.0     44.0      1207.0  1409.0   \n",
       "37                  RI         25.0      4.0       156.0   185.0   \n",
       "38                  SC         60.0     13.0       359.0   432.0   \n",
       "39                  SD         10.0      2.0        45.0    57.0   \n",
       "40                  TN          2.0      0.0         8.0    10.0   \n",
       "41                  TX        270.0     62.0      2155.0  2487.0   \n",
       "42                  UT         33.0      5.0       195.0   233.0   \n",
       "43                  VA        161.0     37.0      1088.0  1286.0   \n",
       "44                  VT          6.0      1.0        41.0    48.0   \n",
       "45                  WA        110.0     21.0       603.0   734.0   \n",
       "46                  WI         49.0     19.0       337.0   405.0   \n",
       "47                  WV         20.0      4.0       137.0   161.0   \n",
       "48                  WY          3.0      3.0        72.0    78.0   \n",
       "\n",
       "loan_status  Chargedoff_Proportion  \n",
       "0                         0.189189  \n",
       "1                         0.114355  \n",
       "2                         0.111111  \n",
       "3                         0.135484  \n",
       "4                         0.149304  \n",
       "5                         0.113506  \n",
       "6                         0.117825  \n",
       "7                         0.067961  \n",
       "8                         0.103774  \n",
       "9                         0.167181  \n",
       "10                        0.151681  \n",
       "11                        0.161491  \n",
       "12                        0.000000  \n",
       "13                        0.000000  \n",
       "14                        0.132812  \n",
       "15                        0.000000  \n",
       "16                        0.096774  \n",
       "17                        0.140984  \n",
       "18                        0.115090  \n",
       "19                        0.113693  \n",
       "20                        0.144641  \n",
       "21                        0.135177  \n",
       "22                        0.128114  \n",
       "23                        0.153226  \n",
       "24                        0.055556  \n",
       "25                        0.123288  \n",
       "26                        0.140200  \n",
       "27                        0.000000  \n",
       "28                        0.147651  \n",
       "29                        0.150265  \n",
       "30                        0.172840  \n",
       "31                        0.210526  \n",
       "32                        0.125870  \n",
       "33                        0.120248  \n",
       "34                        0.131206  \n",
       "35                        0.152913  \n",
       "36                        0.112136  \n",
       "37                        0.135135  \n",
       "38                        0.138889  \n",
       "39                        0.175439  \n",
       "40                        0.200000  \n",
       "41                        0.108565  \n",
       "42                        0.141631  \n",
       "43                        0.125194  \n",
       "44                        0.125000  \n",
       "45                        0.149864  \n",
       "46                        0.120988  \n",
       "47                        0.124224  \n",
       "48                        0.038462  "
      ]
     },
     "execution_count": 330,
     "metadata": {},
     "output_type": "execute_result"
    },
    {
     "data": {
      "image/png": "[encoded data removed]",
      "text/plain": [
       "<Figure size 1008x432 with 1 Axes>"
      ]
     },
     "metadata": {
      "needs_background": "light"
     },
     "output_type": "display_data"
    }
   ],
   "source": [
    "Chargedoff_Proportion('addr_state')\n",
    "\n",
    "# NE has highest percentage of charged off. "
   ]
  }
 ],
 "metadata": {
  "kernelspec": {
   "display_name": "Python 3",
   "language": "python",
   "name": "python3"
  },
  "language_info": {
   "codemirror_mode": {
    "name": "ipython",
    "version": 3
   },
   "file_extension": ".py",
   "mimetype": "text/x-python",
   "name": "python",
   "nbconvert_exporter": "python",
   "pygments_lexer": "ipython3",
   "version": "3.7.6"
  }
 },
 "nbformat": 4,
 "nbformat_minor": 4
}
